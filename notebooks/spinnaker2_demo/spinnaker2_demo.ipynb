{
 "cells": [
  {
   "cell_type": "markdown",
   "id": "ab34e351-2d93-42a5-9548-db013a76d34f",
   "metadata": {},
   "source": [
    "# From NIR to SpiNNaker2\n",
    "\n",
    "*(this notebook is based on the [Speck demo](https://github.com/Jegp/NIR-demo-repo/blob/main/speck_demo/demo.ipynb) by Felix Bauer)*\n",
    "\n",
    "In this notebook we will show how a NIR model can be deployed onto the SpiNNaker2 chip. \n",
    "\n",
    "[py-spinnaker2](https://gitlab.com/spinnaker2/py-spinnaker2), the high-level software interface for running spiking neural networks on SpiNNaker2, provides an API similar to [PyNN](http://neuralensemble.org/docs/PyNN/) and allows to define populations (groups of neurons with the same neuron model) and projections (group of synapses between two populations)."
   ]
  },
  {
   "cell_type": "code",
   "execution_count": 1,
   "id": "2587ed4f-c530-4848-a5e8-ab5bc1c927ef",
   "metadata": {},
   "outputs": [],
   "source": [
    "# Import statements\n",
    "from matplotlib import pyplot as plt\n",
    "import nir\n",
    "import numpy as np\n",
    "import tonic\n",
    "import torch\n",
    "from tqdm.notebook import tqdm\n",
    "from spinnaker2 import brian2_sim, hardware, s2_nir, snn\n",
    "\n",
    "# Matplotlib settings\n",
    "plt.rcParams[\"figure.figsize\"] = (10, 6)\n",
    "plt.rcParams[\"font.size\"] = 20"
   ]
  },
  {
   "cell_type": "markdown",
   "id": "9667da52-2972-44ad-814a-126a65f75eae",
   "metadata": {},
   "source": [
    "## Load NIR model from disk"
   ]
  },
  {
   "cell_type": "code",
   "execution_count": 2,
   "id": "34f5a55e-3f3c-43d9-81ff-c538d8d06412",
   "metadata": {},
   "outputs": [
    {
     "name": "stdout",
     "output_type": "stream",
     "text": [
      "[warning] 4.input_type undefined, set to 3.output_type\n",
      "[warning] 7.input_type undefined, set to 6.output_type\n",
      "input <class 'nir.ir.Input'> {'input': array([ 2, 34, 34])} {'output': array([ 2, 34, 34])} -> ['0']\n",
      "0 <class 'nir.ir.Conv2d'> {'input': array([ 2, 34, 34])} {'output': array([16, 16, 16])} -> ['1']\n",
      "1 <class 'nir.ir.IF'> {'input': array([16, 16, 16])} {'output': array([16, 16, 16])} -> ['2']\n",
      "2 <class 'nir.ir.Conv2d'> {'input': array([16, 16, 16])} {'output': array([16, 16, 16])} -> ['3']\n",
      "3 <class 'nir.ir.IF'> {'input': array([16, 16, 16])} {'output': array([16, 16, 16])} -> ['4']\n",
      "4 <class 'nir.ir.SumPool2d'> {'input': array([16, 16, 16])} {'output': array([16,  8,  8])} -> ['5']\n",
      "5 <class 'nir.ir.Conv2d'> {'input': array([16,  8,  8])} {'output': array([8, 8, 8])} -> ['6']\n",
      "6 <class 'nir.ir.IF'> {'input': array([8, 8, 8])} {'output': array([8, 8, 8])} -> ['7']\n",
      "7 <class 'nir.ir.SumPool2d'> {'input': array([8, 8, 8])} {'output': array([8, 4, 4])} -> ['8']\n",
      "8 <class 'nir.ir.Flatten'> {'input': array([8, 4, 4])} {'output': array([128])} -> ['9']\n",
      "9 <class 'nir.ir.Affine'> {'input': array([128])} {'output': array([256])} -> ['10']\n",
      "10 <class 'nir.ir.IF'> {'input': array([256])} {'output': array([256])} -> ['11']\n",
      "11 <class 'nir.ir.Affine'> {'input': array([256])} {'output': array([10])} -> ['12']\n",
      "12 <class 'nir.ir.IF'> {'input': array([10])} {'output': array([10])} -> ['output']\n",
      "output <class 'nir.ir.Output'> {'input': array([10])} {'output': array([10])} -> []\n"
     ]
    }
   ],
   "source": [
    "model_path = \"scnn_mnist.nir\"\n",
    "nir_graph = nir.read(model_path)\n",
    "\n",
    "# make sure all nodes have necessary shape information\n",
    "nir_graph.infer_types()\n",
    "s2_nir.model_summary(nir_graph)"
   ]
  },
  {
   "cell_type": "markdown",
   "id": "fd2a6fdd-4666-48c5-9d2b-afedcf80e256",
   "metadata": {},
   "source": [
    "## Convert NIR graph into py-spinnaker2 network\n",
    "\n",
    "Let's convert the nir graph into a `spinnaker2.snn.Network()`."
   ]
  },
  {
   "cell_type": "code",
   "execution_count": 3,
   "id": "db347ac9-eade-4241-bee3-1b5fa4089e62",
   "metadata": {},
   "outputs": [
    {
     "name": "stderr",
     "output_type": "stream",
     "text": [
      "INFO:spinnaker2.s2_nir:from_nir(): create spinnaker2.Network from NIR graph\n",
      "INFO:spinnaker2.s2_nir:Created 6 populations: ['1', '10', '12', '3', '6', 'input']\n"
     ]
    },
    {
     "name": "stdout",
     "output_type": "stream",
     "text": [
      "Node '0'\n",
      "Got <class 'nir.ir.Conv2d'>\n",
      "input:  [('input', <class 'nir.ir.Input'>)]\n",
      "output:  [('1', <class 'nir.ir.IF'>)]\n",
      "\n",
      "Node '1'\n",
      "Got <class 'nir.ir.IF'>\n",
      "record:  []\n",
      "[16 16 16] -> [16 16 16]\n",
      "input:  [('0', <class 'nir.ir.Conv2d'>)]\n",
      "output:  [('2', <class 'nir.ir.Conv2d'>)]\n",
      "\n",
      "Node '10'\n",
      "Got <class 'nir.ir.IF'>\n",
      "record:  []\n",
      "[256] -> [256]\n",
      "input:  [('9', <class 'nir.ir.Affine'>)]\n",
      "output:  [('11', <class 'nir.ir.Affine'>)]\n",
      "\n",
      "Node '11'\n",
      "Got <class 'nir.ir.Affine'>\n",
      "input:  [('10', <class 'nir.ir.IF'>)]\n",
      "output:  [('12', <class 'nir.ir.IF'>)]\n",
      "\n",
      "Node '12'\n",
      "Got <class 'nir.ir.IF'>\n",
      "['v', 'spikes']\n",
      "record:  ['v', 'spikes']\n",
      "[10] -> [10]\n",
      "input:  [('11', <class 'nir.ir.Affine'>)]\n",
      "output:  [('output', <class 'nir.ir.Output'>)]\n",
      "\n",
      "Node '2'\n",
      "Got <class 'nir.ir.Conv2d'>\n",
      "input:  [('1', <class 'nir.ir.IF'>)]\n",
      "output:  [('3', <class 'nir.ir.IF'>)]\n",
      "\n",
      "Node '3'\n",
      "Got <class 'nir.ir.IF'>\n",
      "record:  []\n",
      "[16 16 16] -> [16 16 16]\n",
      "input:  [('2', <class 'nir.ir.Conv2d'>)]\n",
      "output:  [('4', <class 'nir.ir.SumPool2d'>)]\n",
      "\n",
      "Node '4'\n",
      "Got <class 'nir.ir.SumPool2d'>\n",
      "input:  [('3', <class 'nir.ir.IF'>)]\n",
      "output:  [('5', <class 'nir.ir.Conv2d'>)]\n",
      "\n",
      "Node '5'\n",
      "Got <class 'nir.ir.Conv2d'>\n",
      "input:  [('4', <class 'nir.ir.SumPool2d'>)]\n",
      "output:  [('6', <class 'nir.ir.IF'>)]\n",
      "\n",
      "Node '6'\n",
      "Got <class 'nir.ir.IF'>\n",
      "record:  []\n",
      "[8 8 8] -> [8 8 8]\n",
      "input:  [('5', <class 'nir.ir.Conv2d'>)]\n",
      "output:  [('7', <class 'nir.ir.SumPool2d'>)]\n",
      "\n",
      "Node '7'\n",
      "Got <class 'nir.ir.SumPool2d'>\n",
      "input:  [('6', <class 'nir.ir.IF'>)]\n",
      "output:  [('8', <class 'nir.ir.Flatten'>)]\n",
      "\n",
      "Node '8'\n",
      "Got <class 'nir.ir.Flatten'>\n",
      "input:  [('7', <class 'nir.ir.SumPool2d'>)]\n",
      "output:  [('9', <class 'nir.ir.Affine'>)]\n",
      "\n",
      "Node '9'\n",
      "Got <class 'nir.ir.Affine'>\n",
      "input:  [('8', <class 'nir.ir.Flatten'>)]\n",
      "output:  [('10', <class 'nir.ir.IF'>)]\n",
      "\n",
      "Node 'input'\n",
      "Got <class 'nir.ir.Input'>\n",
      "input:  []\n",
      "output:  [('0', <class 'nir.ir.Conv2d'>)]\n",
      "\n",
      "Node 'output'\n",
      "Got <class 'nir.ir.Output'>\n",
      "input:  [('12', <class 'nir.ir.IF'>)]\n",
      "output:  []\n",
      "\n",
      "{'in_height': 8, 'in_width': 8, 'stride_x': 1, 'stride_y': 1, 'pool_x': 1, 'pool_y': 1, 'pad_top': 1, 'pad_bottom': 1, 'pad_left': 1, 'pad_right': 1} weights:  (16, 8, 3, 3)\n",
      "SumPool2d(kernel_size=array([2, 2]), stride=array([2, 2]), padding=array([0, 0]))\n",
      "{'in_height': 34, 'in_width': 34, 'stride_x': 2, 'stride_y': 2, 'pool_x': 1, 'pool_y': 1, 'pad_top': 1, 'pad_bottom': 1, 'pad_left': 1, 'pad_right': 1} weights:  (2, 16, 5, 5)\n"
     ]
    },
    {
     "name": "stderr",
     "output_type": "stream",
     "text": [
      "INFO:spinnaker2.s2_nir:Created 5 projections: ['Projection_0', 'Projection_1', 'Projection_2', 'Projection_3', 'Projection_4']\n"
     ]
    },
    {
     "name": "stdout",
     "output_type": "stream",
     "text": [
      "{'in_height': 16, 'in_width': 16, 'stride_x': 1, 'stride_y': 1, 'pool_x': 1, 'pool_y': 1, 'pad_top': 1, 'pad_bottom': 1, 'pad_left': 1, 'pad_right': 1} weights:  (16, 16, 3, 3)\n"
     ]
    }
   ],
   "source": [
    "# Configuration for converting NIR graph to SpiNNaker2\n",
    "conversion_cfg = s2_nir.ConversionConfig()\n",
    "conversion_cfg.output_record = [\"v\", \"spikes\"]\n",
    "conversion_cfg.dt = 0.0001\n",
    "conversion_cfg.conn_delay = 0\n",
    "conversion_cfg.scale_weights = True # Scale weights to dynamic range on chip\n",
    "conversion_cfg.reset = s2_nir.ResetMethod.ZERO # Reset voltage to zero at spike\n",
    "conversion_cfg.integrator = s2_nir.IntegratorMethod.FORWARD # Euler-Forward\n",
    "\n",
    "net, inp, outp = s2_nir.from_nir(nir_graph, conversion_cfg)"
   ]
  },
  {
   "cell_type": "markdown",
   "id": "ffaaf5af-bb8c-40dd-986d-79f330017ab4",
   "metadata": {},
   "source": [
    "### Load the neuromorphic MNIST dataset\n",
    "\n",
    "Let's quickly run the test set through the sinabs model to make sure everything works as it should."
   ]
  },
  {
   "cell_type": "code",
   "execution_count": 4,
   "id": "951ab71d-45b1-4c56-99c1-bb46919f1809",
   "metadata": {},
   "outputs": [],
   "source": [
    "# load dataset\n",
    "to_frame = tonic.transforms.ToFrame(\n",
    "    sensor_size=tonic.datasets.NMNIST.sensor_size, time_window=1e3\n",
    ")\n",
    "dataset = tonic.datasets.NMNIST(\".\", transform=to_frame, train=False)\n",
    "\n",
    "# Only use every 200th sample\n",
    "indices = torch.arange(50) * 200\n",
    "subset = torch.utils.data.Subset(dataset, indices)"
   ]
  },
  {
   "cell_type": "markdown",
   "id": "74bb4980-b736-4af3-9e7b-a9282b18a18f",
   "metadata": {},
   "source": [
    "## Deploy the model onto SpiNNaker2\n",
    "\n",
    "Deploying a model onto SpiNNaker2 looks as follows:\n",
    "\n",
    "### Customize neurons per core"
   ]
  },
  {
   "cell_type": "code",
   "execution_count": 5,
   "id": "242fd7cf-6a84-4edf-8759-05045fbac129",
   "metadata": {},
   "outputs": [],
   "source": [
    "# Customize neurons per core per population\n",
    "for pop in net.populations:\n",
    "    if pop.name == \"3\":\n",
    "        pop.set_max_atoms_per_core(256)\n",
    "    if pop.name == \"6\":\n",
    "        pop.set_max_atoms_per_core(128)\n",
    "    if pop.name == \"10\":\n",
    "        pop.set_max_atoms_per_core(16)"
   ]
  },
  {
   "cell_type": "markdown",
   "id": "754a7b0a-fc96-4b73-a574-c4ace9a9f57d",
   "metadata": {},
   "source": [
    "### Convert input data to spikes\n",
    "While the torch dataset uses tensors, py-spinnaker2's input populations of type `spike_list` require spike times as input. Here's the conversion function that also considers flattening of the 3-dimensional frames"
   ]
  },
  {
   "cell_type": "code",
   "execution_count": 6,
   "id": "3ec22e1c-3b33-44de-91bb-ba4ace586f49",
   "metadata": {},
   "outputs": [],
   "source": [
    "def convert_input(x):\n",
    "    d = {}\n",
    "    # T = x.shape[0]\n",
    "    C = x.shape[1]\n",
    "    H = x.shape[2]\n",
    "    W = x.shape[3]\n",
    "    for c in range(C):\n",
    "        for h in range(H):\n",
    "            for w in range(W):\n",
    "                d[c * H * W + h * W + w] = x[:, c, h, w].nonzero()[0].tolist()\n",
    "    return d"
   ]
  },
  {
   "cell_type": "markdown",
   "id": "ed033c47",
   "metadata": {},
   "source": [
    "Function to run one sample on the chip and return voltages and spikes of output layer."
   ]
  },
  {
   "cell_type": "code",
   "execution_count": 7,
   "id": "bc546d41",
   "metadata": {},
   "outputs": [],
   "source": [
    "def run_single(hw, net, inp, outp, x):\n",
    "    \"\"\"run single sample on SpiNNaker2\n",
    "    \n",
    "    Args:\n",
    "      hw: spinnaker2.Hardware instance\n",
    "      net: spinnaker2 Network\n",
    "      inpu: list of input populations\n",
    "      outp: list of output populations\n",
    "      x: input sample of shape (T,C,H,W)\n",
    "      \n",
    "    Returns:\n",
    "      tuple (voltages, spikes): voltages and spikes of output layer\n",
    "    \"\"\"\n",
    "    input_spikes = convert_input(x)\n",
    "    inp[0].params = input_spikes\n",
    "\n",
    "    timesteps = x.shape[0] + 1\n",
    "    net.reset()\n",
    "    hw.run(net, timesteps, sys_tick_in_s=2.5e-3, debug=False)\n",
    "    voltages = outp[0].get_voltages()\n",
    "    spikes = outp[0].get_spikes()\n",
    "\n",
    "    return voltages, spikes"
   ]
  },
  {
   "cell_type": "markdown",
   "id": "fef5f7fd-5f2c-48e6-8ac9-cfa42d779abc",
   "metadata": {},
   "source": [
    "### Some helper functions"
   ]
  },
  {
   "cell_type": "code",
   "execution_count": 8,
   "id": "88ab88e0-7956-49ce-8373-48bfd5eb3306",
   "metadata": {},
   "outputs": [],
   "source": [
    "# This will help us choose samples of a given target\n",
    "targets = np.array([y for x,y in subset])\n",
    "target_indices = {idx: np.where(targets == idx)[0] for idx in range(10)}\n",
    "\n",
    "def plot_hist(output_spikes, target):\n",
    "    # spike count\n",
    "    spike_counts = np.zeros(10)\n",
    "    for idx, spikes in output_spikes.items():\n",
    "        spike_counts[idx] = len(spikes)\n",
    "    prediction = np.argmax(spike_counts)\n",
    "\n",
    "\n",
    "    # Draw histogram\n",
    "    fig, ax = plt.subplots()\n",
    "    bins = np.arange(11)-0.5\n",
    "    # N, bins, patches = ax.hist(features, bins=bins, edgecolor='white', linewidth=1)\n",
    "    patches = ax.bar(np.arange(10), spike_counts, edgecolor='white', linewidth=1)\n",
    "    plt.title(f\"Prediction: {prediction} ({f'target: {target}' if target!=prediction else 'correct'})\")\n",
    "    plt.ylabel(\"Event count\")\n",
    "    plt.xlabel(\"Feature\")\n",
    "    plt.xticks(np.arange(10));\n",
    "    \n",
    "    # Set bar colors according to prediction and target\n",
    "    for i, patch in enumerate(patches):\n",
    "        if i == prediction and i == target:\n",
    "            patch.set_facecolor('g')\n",
    "        elif i == prediction:\n",
    "            patch.set_facecolor('r')\n",
    "        elif i == target:\n",
    "            patch.set_facecolor('k')\n",
    "    \n",
    "    # Make xtick label of prediciton bold\n",
    "    ax.xaxis.get_major_ticks()[prediction].label1.set_fontweight(\"bold\")\n",
    "\n",
    "    return prediction\n",
    "\n",
    "def test_sample(target):\n",
    "    index = np.random.choice(target_indices[target])\n",
    "    sample, tgt = subset[index]\n",
    "    assert(target == tgt)\n",
    "    image = sample.sum((0, 1))\n",
    "    plt.imshow(image)\n",
    "    plt.title(\"Input\")\n",
    "    \n",
    "    # run on SpiNNaker 2\n",
    "    hw = hardware.SpiNNaker2Chip(eth_ip=\"192.168.1.25\")\n",
    "    # hw = brian2_sim.Brian2Backend()\n",
    "\n",
    "    voltages, spikes = run_single(hw, net, inp, outp, sample)\n",
    "    del hw\n",
    "    \n",
    "    prediction = plot_hist(spikes, target)\n",
    "    print(f\"SpiNNaker2 prediction: {prediction}\")"
   ]
  },
  {
   "cell_type": "markdown",
   "id": "6a2a9e39-cc57-43c1-a163-aa66f25e7d90",
   "metadata": {},
   "source": [
    "## Live demo\n",
    "\n",
    "Now let's run the example on the SpiNNaker2 chip:"
   ]
  },
  {
   "cell_type": "code",
   "execution_count": 9,
   "id": "5ed89218-c4f6-499e-a13f-c175d0e9848b",
   "metadata": {
    "scrolled": false
   },
   "outputs": [
    {
     "name": "stdout",
     "output_type": "stream",
     "text": [
      "cores available: 152\n",
      "cores needed:    46\n",
      "Used 46 out of 152 cores\n",
      "Sim duration: 0.765 s\n",
      "Actual duration (incl. offset): 0.775\n"
     ]
    },
    {
     "name": "stderr",
     "output_type": "stream",
     "text": [
      "INFO:     open and bind UDP socket\n",
      "INFO:     Running test ...\n"
     ]
    },
    {
     "name": "stdout",
     "output_type": "stream",
     "text": [
      "configure hardware\n",
      "There are 12QPEs\n",
      "Enabled QPEs.\n",
      "Enabled random bus\n"
     ]
    },
    {
     "name": "stderr",
     "output_type": "stream",
     "text": [
      "INFO:     start random bus...\n",
      "INFO:     QPE (1,1) PE 0): loading memory from file /home/vogginger/project/software/s2-sim2lab-app/chip/app-pe/s2app/lif_conv2d/binaries/s2app_arm.mem...\n",
      "INFO:     QPE (1,1) PE 1): loading memory from file /home/vogginger/project/software/s2-sim2lab-app/chip/app-pe/s2app/lif_conv2d/binaries/s2app_arm.mem...\n",
      "INFO:     QPE (1,1) PE 2): loading memory from file /home/vogginger/project/software/s2-sim2lab-app/chip/app-pe/s2app/lif_conv2d/binaries/s2app_arm.mem...\n",
      "INFO:     QPE (1,1) PE 3): loading memory from file /home/vogginger/project/software/s2-sim2lab-app/chip/app-pe/s2app/lif_conv2d/binaries/s2app_arm.mem...\n",
      "INFO:     QPE (1,2) PE 0): loading memory from file /home/vogginger/project/software/s2-sim2lab-app/chip/app-pe/s2app/lif_neuron_no_delay/binaries/s2app_arm.mem...\n",
      "INFO:     QPE (1,2) PE 1): loading memory from file /home/vogginger/project/software/s2-sim2lab-app/chip/app-pe/s2app/lif_neuron_no_delay/binaries/s2app_arm.mem...\n",
      "INFO:     QPE (1,2) PE 2): loading memory from file /home/vogginger/project/software/s2-sim2lab-app/chip/app-pe/s2app/lif_neuron_no_delay/binaries/s2app_arm.mem...\n",
      "INFO:     QPE (1,2) PE 3): loading memory from file /home/vogginger/project/software/s2-sim2lab-app/chip/app-pe/s2app/lif_neuron_no_delay/binaries/s2app_arm.mem...\n",
      "INFO:     QPE (1,3) PE 0): loading memory from file /home/vogginger/project/software/s2-sim2lab-app/chip/app-pe/s2app/lif_neuron_no_delay/binaries/s2app_arm.mem...\n",
      "INFO:     QPE (1,3) PE 1): loading memory from file /home/vogginger/project/software/s2-sim2lab-app/chip/app-pe/s2app/lif_neuron_no_delay/binaries/s2app_arm.mem...\n",
      "INFO:     QPE (1,3) PE 2): loading memory from file /home/vogginger/project/software/s2-sim2lab-app/chip/app-pe/s2app/lif_neuron_no_delay/binaries/s2app_arm.mem...\n",
      "INFO:     QPE (1,3) PE 3): loading memory from file /home/vogginger/project/software/s2-sim2lab-app/chip/app-pe/s2app/lif_neuron_no_delay/binaries/s2app_arm.mem...\n",
      "INFO:     QPE (1,4) PE 0): loading memory from file /home/vogginger/project/software/s2-sim2lab-app/chip/app-pe/s2app/lif_neuron_no_delay/binaries/s2app_arm.mem...\n",
      "INFO:     QPE (1,4) PE 1): loading memory from file /home/vogginger/project/software/s2-sim2lab-app/chip/app-pe/s2app/lif_neuron_no_delay/binaries/s2app_arm.mem...\n",
      "INFO:     QPE (1,4) PE 2): loading memory from file /home/vogginger/project/software/s2-sim2lab-app/chip/app-pe/s2app/lif_neuron_no_delay/binaries/s2app_arm.mem...\n",
      "INFO:     QPE (1,4) PE 3): loading memory from file /home/vogginger/project/software/s2-sim2lab-app/chip/app-pe/s2app/lif_neuron_no_delay/binaries/s2app_arm.mem...\n",
      "INFO:     QPE (1,5) PE 0): loading memory from file /home/vogginger/project/software/s2-sim2lab-app/chip/app-pe/s2app/lif_neuron_no_delay/binaries/s2app_arm.mem...\n",
      "INFO:     QPE (1,5) PE 1): loading memory from file /home/vogginger/project/software/s2-sim2lab-app/chip/app-pe/s2app/lif_neuron_no_delay/binaries/s2app_arm.mem...\n",
      "INFO:     QPE (1,5) PE 2): loading memory from file /home/vogginger/project/software/s2-sim2lab-app/chip/app-pe/s2app/lif_neuron_no_delay/binaries/s2app_arm.mem...\n",
      "INFO:     QPE (1,5) PE 3): loading memory from file /home/vogginger/project/software/s2-sim2lab-app/chip/app-pe/s2app/lif_neuron_no_delay/binaries/s2app_arm.mem...\n",
      "INFO:     QPE (1,6) PE 0): loading memory from file /home/vogginger/project/software/s2-sim2lab-app/chip/app-pe/s2app/lif_neuron_no_delay/binaries/s2app_arm.mem...\n",
      "INFO:     QPE (1,6) PE 1): loading memory from file /home/vogginger/project/software/s2-sim2lab-app/chip/app-pe/s2app/lif_conv2d/binaries/s2app_arm.mem...\n",
      "INFO:     QPE (1,6) PE 2): loading memory from file /home/vogginger/project/software/s2-sim2lab-app/chip/app-pe/s2app/lif_conv2d/binaries/s2app_arm.mem...\n",
      "INFO:     QPE (1,6) PE 3): loading memory from file /home/vogginger/project/software/s2-sim2lab-app/chip/app-pe/s2app/lif_conv2d/binaries/s2app_arm.mem...\n",
      "INFO:     QPE (2,1) PE 0): loading memory from file /home/vogginger/project/software/s2-sim2lab-app/chip/app-pe/s2app/lif_conv2d/binaries/s2app_arm.mem...\n",
      "INFO:     QPE (2,1) PE 1): loading memory from file /home/vogginger/project/software/s2-sim2lab-app/chip/app-pe/s2app/lif_conv2d/binaries/s2app_arm.mem...\n",
      "INFO:     QPE (2,1) PE 2): loading memory from file /home/vogginger/project/software/s2-sim2lab-app/chip/app-pe/s2app/lif_conv2d/binaries/s2app_arm.mem...\n",
      "INFO:     QPE (2,1) PE 3): loading memory from file /home/vogginger/project/software/s2-sim2lab-app/chip/app-pe/s2app/lif_conv2d/binaries/s2app_arm.mem...\n",
      "INFO:     QPE (2,2) PE 0): loading memory from file /home/vogginger/project/software/s2-sim2lab-app/chip/app-pe/s2app/lif_conv2d/binaries/s2app_arm.mem...\n",
      "INFO:     QPE (2,2) PE 1): loading memory from file /home/vogginger/project/software/s2-sim2lab-app/chip/app-pe/s2app/lif_conv2d/binaries/s2app_arm.mem...\n",
      "INFO:     QPE (2,2) PE 2): loading memory from file /home/vogginger/project/software/s2-sim2lab-app/chip/app-pe/s2app/lif_conv2d/binaries/s2app_arm.mem...\n",
      "INFO:     QPE (2,2) PE 3): loading memory from file /home/vogginger/project/software/s2-sim2lab-app/chip/app-pe/s2app/lif_conv2d/binaries/s2app_arm.mem...\n",
      "INFO:     QPE (2,3) PE 0): loading memory from file /home/vogginger/project/software/s2-sim2lab-app/chip/app-pe/s2app/lif_conv2d/binaries/s2app_arm.mem...\n",
      "INFO:     QPE (2,3) PE 1): loading memory from file /home/vogginger/project/software/s2-sim2lab-app/chip/app-pe/s2app/lif_conv2d/binaries/s2app_arm.mem...\n",
      "INFO:     QPE (2,3) PE 2): loading memory from file /home/vogginger/project/software/s2-sim2lab-app/chip/app-pe/s2app/lif_conv2d/binaries/s2app_arm.mem...\n",
      "INFO:     QPE (2,3) PE 3): loading memory from file /home/vogginger/project/software/s2-sim2lab-app/chip/app-pe/s2app/lif_conv2d/binaries/s2app_arm.mem...\n",
      "INFO:     QPE (2,4) PE 0): loading memory from file /home/vogginger/project/software/s2-sim2lab-app/chip/app-pe/s2app/lif_conv2d/binaries/s2app_arm.mem...\n",
      "INFO:     QPE (2,4) PE 1): loading memory from file /home/vogginger/project/software/s2-sim2lab-app/chip/app-pe/s2app/lif_conv2d/binaries/s2app_arm.mem...\n",
      "INFO:     QPE (2,4) PE 2): loading memory from file /home/vogginger/project/software/s2-sim2lab-app/chip/app-pe/s2app/lif_conv2d/binaries/s2app_arm.mem...\n",
      "INFO:     QPE (2,4) PE 3): loading memory from file /home/vogginger/project/software/s2-sim2lab-app/chip/app-pe/s2app/lif_conv2d/binaries/s2app_arm.mem...\n",
      "INFO:     QPE (2,5) PE 0): loading memory from file /home/vogginger/project/software/s2-sim2lab-app/chip/app-pe/s2app/lif_conv2d/binaries/s2app_arm.mem...\n",
      "INFO:     QPE (2,5) PE 1): loading memory from file /home/vogginger/project/software/s2-sim2lab-app/chip/app-pe/s2app/input_spikes_with_routing/binaries/s2app_arm.mem...\n",
      "INFO:     QPE (2,5) PE 2): loading memory from file /home/vogginger/project/software/s2-sim2lab-app/chip/app-pe/s2app/input_spikes_with_routing/binaries/s2app_arm.mem...\n",
      "INFO:     QPE (2,5) PE 3): loading memory from file /home/vogginger/project/software/s2-sim2lab-app/chip/app-pe/s2app/input_spikes_with_routing/binaries/s2app_arm.mem...\n",
      "INFO:     QPE (2,6) PE 0): loading memory from file /home/vogginger/project/software/s2-sim2lab-app/chip/app-pe/s2app/input_spikes_with_routing/binaries/s2app_arm.mem...\n",
      "INFO:     QPE (2,6) PE 1): loading memory from file /home/vogginger/project/software/s2-sim2lab-app/chip/app-pe/s2app/input_spikes_with_routing/binaries/s2app_arm.mem...\n"
     ]
    },
    {
     "name": "stdout",
     "output_type": "stream",
     "text": [
      "Loaded mem-files\n",
      "Data written to SRAM\n",
      "PEs started\n",
      "Sending regfile interrupts for synchronous start\n",
      "Run experiment for 0.775 seconds\n",
      "Experiment done\n",
      "Going to read 3060 from address 0xf0712c90 (key: PE_56_spike_record)\n",
      "Going to read 3366 from address 0xf0715c60 (key: PE_56_voltage_record)\n",
      "Results read\n",
      "interface free again\n",
      "Read spike record\n",
      "read_spikes(n_neurons=10, time_steps=306, max_atoms=250)\n",
      "Read voltage record\n",
      "read_voltages(n_neurons=10, time_steps=306)\n",
      "Duration recording: 0.04162883758544922\n",
      "SpiNNaker2 prediction: 2\n"
     ]
    },
    {
     "data": {
      "image/png": "[encoded data removed]",
      "text/plain": [
       "<Figure size 1000x600 with 1 Axes>"
      ]
     },
     "metadata": {},
     "output_type": "display_data"
    },
    {
     "data": {
      "image/png": "[encoded data removed]",
      "text/plain": [
       "<Figure size 1000x600 with 1 Axes>"
      ]
     },
     "metadata": {},
     "output_type": "display_data"
    }
   ],
   "source": [
    "test_sample(2)"
   ]
  },
  {
   "cell_type": "markdown",
   "id": "0012c5d4-19d8-4faa-aba5-509b028d85f9",
   "metadata": {},
   "source": [
    "## Send test data to the chip and read out its prediction\n",
    "To get some quantitative idea about how well the on-chip model does, we can use the test data from above and run it through the chip. **Note: this will take more than 6 minutes!!!**"
   ]
  },
  {
   "cell_type": "code",
   "execution_count": 10,
   "id": "ad850ae8",
   "metadata": {
    "scrolled": true
   },
   "outputs": [],
   "source": [
    "def run_subset():\n",
    "    correct = 0\n",
    "    predictions = []\n",
    "    for (sample, target) in tqdm(subset, total=len(subset)):\n",
    "\n",
    "        # run on SpiNNaker 2\n",
    "        hw = hardware.SpiNNaker2Chip(eth_ip=\"192.168.1.25\")\n",
    "        # hw = brian2_sim.Brian2Backend()\n",
    "\n",
    "        voltages, spikes = run_single(hw, net, inp, outp, sample)\n",
    "        del hw\n",
    "\n",
    "        spike_counts = np.zeros(10)\n",
    "        for idx, spike_times in spikes.items():\n",
    "            spike_counts[idx] = len(spike_times)\n",
    "        prediction = np.argmax(spike_counts)\n",
    "\n",
    "        correct += (prediction == target)\n",
    "        predictions.append(prediction)\n",
    "\n",
    "    accuracy = correct / len(subset)\n",
    "    print(f\"Test accuracy on SpiNNaker2: {accuracy:.2%}\")"
   ]
  },
  {
   "cell_type": "code",
   "execution_count": 11,
   "id": "81c62d5c",
   "metadata": {},
   "outputs": [],
   "source": [
    "# run_subset()"
   ]
  }
 ],
 "metadata": {
  "kernelspec": {
   "display_name": "Python 3 (ipykernel)",
   "language": "python",
   "name": "python3"
  },
  "language_info": {
   "codemirror_mode": {
    "name": "ipython",
    "version": 3
   },
   "file_extension": ".py",
   "mimetype": "text/x-python",
   "name": "python",
   "nbconvert_exporter": "python",
   "pygments_lexer": "ipython3",
   "version": "3.9.17"
  }
 },
 "nbformat": 4,
 "nbformat_minor": 5
}
