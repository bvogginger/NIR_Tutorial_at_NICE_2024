{
 "cells": [
  {
   "cell_type": "markdown",
   "id": "14fcd2bc",
   "metadata": {
    "colab_type": "text",
    "id": "view-in-github"
   },
   "source": [
    "<a href=\"https://colab.research.google.com/github/bvogginger/NIR_Tutorial_at_NICE_2024/blob/main/notebooks/nir_to_brian2/NIR_to_brian2.ipynb\" target=\"_parent\"><img src=\"https://colab.research.google.com/assets/colab-badge.svg\" alt=\"Open In Colab\"/></a>"
   ]
  },
  {
   "cell_type": "markdown",
   "id": "b334281b-8738-43f4-9313-e829f4f8d372",
   "metadata": {
    "id": "b334281b-8738-43f4-9313-e829f4f8d372"
   },
   "source": [
    "# NIR to Brian2 demo: Synfire Chain\n",
    "\n",
    "This notebook let's you look behind the scenes of NIR:\n",
    "\n",
    "1. NIR Graph: its data structure and how to construct it\n",
    "2. How to convert a NIR graph to a `brian2.Network` with brian2's neuron groups and synapses object"
   ]
  },
  {
   "cell_type": "code",
   "execution_count": null,
   "id": "JRBaq9E9Jq_v",
   "metadata": {
    "id": "JRBaq9E9Jq_v"
   },
   "outputs": [],
   "source": [
    "! pip install nir\n",
    "! pip install brian2"
   ]
  },
  {
   "cell_type": "code",
   "execution_count": null,
   "id": "b871efdd-d8d3-4212-826d-3d68e0f3d762",
   "metadata": {
    "id": "b871efdd-d8d3-4212-826d-3d68e0f3d762"
   },
   "outputs": [],
   "source": [
    "import nir\n",
    "import brian2\n",
    "import matplotlib.pyplot as plt\n",
    "import numpy as np\n",
    "\n",
    "from numpy.random import default_rng\n",
    "\n",
    "rng = default_rng()"
   ]
  },
  {
   "cell_type": "markdown",
   "id": "d7ed440e-c1f9-487c-a512-eb063fca5974",
   "metadata": {
    "id": "d7ed440e-c1f9-487c-a512-eb063fca5974"
   },
   "source": [
    "## Synfire Chain\n",
    "The [synfire chain](http://www.scholarpedia.org/article/Synfire_chains) is a feed-forward network of groups of many neurons. It is a standard benchmark and proof-of-concept for neuromorphic hardware.\n",
    "\n",
    "In this demo we will use a simple synfire chain with the following architecture:\n",
    "![Synfire Chain](images/schema_no_inh.png)\n",
    "\n",
    "- An input population `stim` with 100 neuron creates a *spike volley* (each neuron spikes once with the spike time drawn from a Normal distribution).\n",
    "- The `stim` population is connected to a group of neurons via excitatory connections. Synapses are created with a defined connection probability (e.g. 60 %)\n",
    "- Each group of excitatory neurons `exc` with 100 neurons each is again connected to the following group of excitatory neurons with the same connections probability.\n",
    "- Typically, the excitatory neurons only spike, if the neurons from the previous group spike synchronously (within a small time window, e.g. defined by the `sigma` of the Normal distribution\n",
    "- For the first demo, we will use non-leaky Integrate & Fire neurons (IF), synaptic weights of `1.0` and spike threshold of `50.0` so that the neuron will fire once it has received 51 input spikes. *You may check the [NIR API documentation](https://nnir.readthedocs.io/en/latest/autoapi/nir/ir/neuron/index.html#nir.ir.neuron.IF) for the parameters and equation of the IF neuron.*"
   ]
  },
  {
   "cell_type": "code",
   "execution_count": null,
   "id": "fac13b3c-04e8-433e-931e-16028d29a78f",
   "metadata": {
    "id": "fac13b3c-04e8-433e-931e-16028d29a78f"
   },
   "outputs": [],
   "source": [
    "n_groups = 5  # number of groups\n",
    "n_nrns = 100  # neurons per group\n",
    "p_conn = 0.6  # connection probability\n",
    "weight = 1.0  # synaptic weight\n",
    "\n",
    "# neuron params\n",
    "R = 1.0\n",
    "v_threshold = 50.0\n",
    "\n",
    "def gen_weights_fixed_probability(n_pre: int, n_post:int, p:float, weight: float):\n",
    "    \"\"\"create a random weight matrix with fixed weight\"\"\"\n",
    "    r = rng.random((n_post, n_pre))\n",
    "    weights = np.zeros((n_post, n_pre), dtype=float)\n",
    "    weights[r<p] = weight\n",
    "    return weights"
   ]
  },
  {
   "cell_type": "markdown",
   "id": "b3216d8b-04a1-49b2-b7d1-a51b901c74c1",
   "metadata": {},
   "source": [
    "Create the NIR nodes (`Input`, `Linear`, `IF` and `Output`) for the synfire chain"
   ]
  },
  {
   "cell_type": "code",
   "execution_count": null,
   "id": "01ffb9cd-9f29-40a4-9e90-efc2e975d436",
   "metadata": {
    "id": "01ffb9cd-9f29-40a4-9e90-efc2e975d436"
   },
   "outputs": [],
   "source": [
    "nodes = {} # dict of node names to NIR nodes\n",
    "nodes[\"input\"] = nir.Input(input_type=np.array([n_nrns]))\n",
    "for i in range(n_groups):\n",
    "    # Linear nodes\n",
    "    nodes[f\"linear_{i}\"] = nir.Linear(weight=gen_weights_fixed_probability(n_nrns, n_nrns, p_conn, weight))\n",
    "    \n",
    "    # IF nodes\n",
    "    nodes[f\"if_{i}\"] = nir.IF(r=np.full(n_nrns, R), v_threshold=np.full(n_nrns, v_threshold))\n",
    "\n",
    "    # Output nodes for spike recording\n",
    "    nodes[f\"output_{i}\"] = nir.Output(output_type=np.array([n_nrns]))"
   ]
  },
  {
   "cell_type": "markdown",
   "id": "49615555-32ab-497b-941f-e064583ff177",
   "metadata": {},
   "source": [
    "Create the directed edges"
   ]
  },
  {
   "cell_type": "code",
   "execution_count": null,
   "id": "dae325d6-d936-4aef-8335-fc0f190d2f24",
   "metadata": {},
   "outputs": [],
   "source": [
    "edges = []  # directed edges defined as a list of tuples (\"source_node\", \"target_node\")\n",
    "\n",
    "# Connection from input to first Linear node\n",
    "edges.append((\"input\", \"linear_0\"))\n",
    "\n",
    "# Edges between Linear and IF nodes\n",
    "for i in range(n_groups):\n",
    "    edges.append((f\"linear_{i}\", f\"if_{i}\"))\n",
    "\n",
    "# Edges between IF nodes and Linear nodes of next group\n",
    "for i in range(n_groups-1):\n",
    "    edges.append((f\"if_{i}\", f\"linear_{i+1}\"))\n",
    "\n",
    "# Edges from IF nodes to output nodes\n",
    "for i in range(n_groups):\n",
    "    edges.append((f\"if_{i}\", f\"output_{i}\"))"
   ]
  },
  {
   "cell_type": "markdown",
   "id": "38a1fd7d-cdaf-48e1-bed8-afffaa5fc36b",
   "metadata": {},
   "source": [
    "Create the NIR graph"
   ]
  },
  {
   "cell_type": "code",
   "execution_count": null,
   "id": "bab914b6-753e-436f-bb62-aec7210639cd",
   "metadata": {
    "id": "bab914b6-753e-436f-bb62-aec7210639cd"
   },
   "outputs": [],
   "source": [
    "graph = nir.NIRGraph(nodes=nodes, edges=edges)"
   ]
  },
  {
   "cell_type": "markdown",
   "id": "c456493b-fc61-463f-b276-da7b28f42b5c",
   "metadata": {
    "id": "c456493b-fc61-463f-b276-da7b28f42b5c"
   },
   "source": [
    "# Create brian2 network\n",
    "\n",
    "Next we want to convert the NIR graph into a brian2 network"
   ]
  },
  {
   "cell_type": "markdown",
   "id": "2fd930db-2c96-45a9-ab15-d73e155f5226",
   "metadata": {},
   "source": [
    "Create a `brian2.Network` and dictionairy to keep track of neuron groups, synapses and spike_monitors"
   ]
  },
  {
   "cell_type": "code",
   "execution_count": null,
   "id": "1a434be9-3895-4b9c-b0c4-2a1aaf10d115",
   "metadata": {
    "id": "1a434be9-3895-4b9c-b0c4-2a1aaf10d115"
   },
   "outputs": [],
   "source": [
    "net = brian2.Network()\n",
    "neuron_groups = {}\n",
    "synapses = {}\n",
    "spike_monitors = {}"
   ]
  },
  {
   "cell_type": "markdown",
   "id": "6e11ff6d-6727-4f0d-a2fa-32df555639fe",
   "metadata": {
    "id": "6e11ff6d-6727-4f0d-a2fa-32df555639fe"
   },
   "source": [
    "## 1. Create NeuronGroups from NIR graph\n",
    "\n",
    "Let's create NeuronGroups from `nir.IF` and `nir.Input` nodes.\n",
    "\n",
    "- `IF` nodes are converted into `brian2.NeuronGroup` objects with matching neuron model equations.\n",
    "- `Input` nodes are converted into `brian2.SpikeGeneratorGroup` objects"
   ]
  },
  {
   "cell_type": "code",
   "execution_count": null,
   "id": "37c685e6-e0cd-4c01-9ac9-b886357b8477",
   "metadata": {
    "id": "37c685e6-e0cd-4c01-9ac9-b886357b8477"
   },
   "outputs": [],
   "source": [
    "# Loop over graph nodes and process IF and Input nodes\n",
    "for name, node in graph.nodes.items():\n",
    "    if isinstance(node, nir.IF):\n",
    "        IF_eqn = \"\"\"\n",
    "        v : 1\n",
    "        v_th : 1\n",
    "        r : 1\n",
    "        \"\"\"\n",
    "\n",
    "        shape = node.output_type[\"output\"] # get output shape of NIR node\n",
    "        # create a neuron group with IF model\n",
    "        group = brian2.NeuronGroup(N=shape, model=IF_eqn, threshold=\"v>v_th\", reset=\"v -= v_th\")\n",
    "\n",
    "        # set parameters\n",
    "        group.r = node.r\n",
    "        group.v_th = node.v_threshold\n",
    "\n",
    "        neuron_groups[name] = group\n",
    "\n",
    "    elif isinstance(node, nir.Input):\n",
    "        shape = node.output_type[\"output\"]  # get output shape of NIR node\n",
    "\n",
    "        # create a spike generator group with empty spike times\n",
    "        indices = np.array([], dtype=int)\n",
    "        times = np.array([], dtype=float)*brian2.ms\n",
    "        group = brian2.SpikeGeneratorGroup(shape, indices=indices, times=times)\n",
    "\n",
    "        neuron_groups[name] = group\n",
    "\n",
    "# add neuron groups to brian2 network\n",
    "net.add(*neuron_groups.values())"
   ]
  },
  {
   "cell_type": "markdown",
   "id": "18ae8c59-6562-42c0-80ff-59309ae2516c",
   "metadata": {
    "id": "18ae8c59-6562-42c0-80ff-59309ae2516c"
   },
   "source": [
    "## 2. Create Synapses from NIR graph\n",
    "\n",
    "Let's create `brian2.Synapses` from `nir.Linear` nodes."
   ]
  },
  {
   "cell_type": "code",
   "execution_count": null,
   "id": "a4fbe99f-c70b-4a26-939a-28abf6525e47",
   "metadata": {
    "id": "a4fbe99f-c70b-4a26-939a-28abf6525e47"
   },
   "outputs": [],
   "source": [
    "# Loop over graph nodes and process IF and Input nodes\n",
    "for name, node in graph.nodes.items():\n",
    "    if isinstance(node, nir.Linear):\n",
    "        # get weight matrix and reshape from (n_post, n_pre) to (n_pre, n_post)\n",
    "        weight_matrix = node.weight.T\n",
    "\n",
    "        # get source and target of Linear node by parsing the edges\n",
    "        src_nodes = [src for (src, tgt) in graph.edges if tgt == name]\n",
    "        tgt_nodes = [tgt for (src, tgt) in graph.edges if src == name]\n",
    "\n",
    "        # make sure there is only 1 source and 1 target of the Linear node\n",
    "        assert len(src_nodes) == 1\n",
    "        assert len(tgt_nodes) == 1\n",
    "\n",
    "        # get previously created source and target neuron groups\n",
    "        src_group = neuron_groups[src_nodes[0]]\n",
    "        tgt_group = neuron_groups[tgt_nodes[0]]\n",
    "\n",
    "        # create synapses object\n",
    "        syn = brian2.Synapses(src_group, tgt_group, model=\"w:1\", on_pre=\"v += w\")\n",
    "        syn.connect() # connect full matrix\n",
    "        syn.w = weight_matrix.flatten()\n",
    "\n",
    "        synapses[name] = syn\n",
    "\n",
    "# Add synapses to brian2 network\n",
    "net.add(*synapses.values())"
   ]
  },
  {
   "cell_type": "markdown",
   "id": "aba995a6-c72c-432b-acf1-30e4efbb5b7c",
   "metadata": {
    "id": "aba995a6-c72c-432b-acf1-30e4efbb5b7c"
   },
   "source": [
    "## 3. Create SpikeMonitors for Output notes\n",
    "\n",
    "Let's use NIR's `Output` to set up the recording of the neuron groups with `brian2.SpikeMonitors`"
   ]
  },
  {
   "cell_type": "code",
   "execution_count": null,
   "id": "f44211d4-a953-4f44-86f9-16b62e380be1",
   "metadata": {
    "id": "f44211d4-a953-4f44-86f9-16b62e380be1"
   },
   "outputs": [],
   "source": [
    "# create state monitors\n",
    "for name, node in graph.nodes.items():\n",
    "    if isinstance(node, nir.Output):\n",
    "        # get source node by parsing the edges\n",
    "        src_nodes = [src for (src, tgt) in graph.edges if tgt == name]\n",
    "        assert len(src_nodes) == 1\n",
    "        spike_mon = brian2.SpikeMonitor(neuron_groups[src_nodes[0]])\n",
    "        spike_monitors[name] = spike_mon\n",
    "\n",
    "# Add spike monitors to brian2 network\n",
    "net.add(*spike_monitors.values())"
   ]
  },
  {
   "cell_type": "markdown",
   "id": "264624dc-9292-45d4-8c1d-400182f57917",
   "metadata": {
    "id": "264624dc-9292-45d4-8c1d-400182f57917"
   },
   "source": [
    "## 5. Verify that no nodes were missed\n",
    "\n",
    "Let's check if all nodes in the NIR graph have been processed"
   ]
  },
  {
   "cell_type": "code",
   "execution_count": null,
   "id": "1d246f15-86cc-4394-b566-d5e4399d1445",
   "metadata": {
    "id": "1d246f15-86cc-4394-b566-d5e4399d1445"
   },
   "outputs": [],
   "source": [
    "# create a set with all the node names\n",
    "node_names = set(graph.nodes.keys())\n",
    "\n",
    "# remove nodes converted to neuron groups\n",
    "for key in neuron_groups:\n",
    "    node_names.remove(key)\n",
    "\n",
    "# remove nodes converted to synapses objects\n",
    "for key in synapses:\n",
    "    node_names.remove(key)\n",
    "\n",
    "# remove nodes converted to spike monitors\n",
    "for key in spike_monitors:\n",
    "    node_names.remove(key)\n",
    "\n",
    "# Set of node names should be empty!\n",
    "assert len(node_names) == 0"
   ]
  },
  {
   "cell_type": "markdown",
   "id": "68b7f3d3-901d-4d10-a6f7-e839ab3bfc22",
   "metadata": {
    "id": "68b7f3d3-901d-4d10-a6f7-e839ab3bfc22"
   },
   "source": [
    "# Run simulation"
   ]
  },
  {
   "cell_type": "markdown",
   "id": "d55d9ad3-9a2e-47a2-9bd4-5cdb8425c15f",
   "metadata": {
    "id": "d55d9ad3-9a2e-47a2-9bd4-5cdb8425c15f"
   },
   "source": [
    "Let's create input spikes"
   ]
  },
  {
   "cell_type": "code",
   "execution_count": null,
   "id": "ff52b55e-c1bb-4df0-ad84-39ef357d9f31",
   "metadata": {
    "id": "ff52b55e-c1bb-4df0-ad84-39ef357d9f31"
   },
   "outputs": [],
   "source": [
    "input_group = neuron_groups[\"input\"]\n",
    "\n",
    "s_mean = 25.0\n",
    "s_sigma = 2.0\n",
    "input_spikes = rng.normal(s_mean, s_sigma, n_nrns)\n",
    "indices = np.arange(n_nrns, dtype=int)\n",
    "times = input_spikes*brian2.ms\n",
    "\n",
    "input_group.set_spikes(indices, times)\n",
    "\n",
    "# plot input spike volley\n",
    "plt.plot(times/brian2.ms, indices, \".\")\n",
    "plt.xlim(0,50)\n",
    "plt.xlabel(\"time [ms]\")\n",
    "plt.ylabel(\"input neuron\")\n",
    "plt.title(\"input spikes\")"
   ]
  },
  {
   "cell_type": "code",
   "execution_count": null,
   "id": "5b6a4c63-0100-4f92-b16e-8ccfdbdf60b1",
   "metadata": {
    "id": "5b6a4c63-0100-4f92-b16e-8ccfdbdf60b1"
   },
   "outputs": [],
   "source": [
    "# run brian2 simulation (this may take a while when you run brian for the 1st time)\n",
    "net.run(50*brian2.ms, report=\"text\")"
   ]
  },
  {
   "cell_type": "code",
   "execution_count": null,
   "id": "3e4a4f7f-7671-41a2-aa9c-b37b036140ea",
   "metadata": {
    "id": "3e4a4f7f-7671-41a2-aa9c-b37b036140ea"
   },
   "outputs": [],
   "source": [
    "for i in range(n_groups):\n",
    "    spike_mon = spike_monitors[f\"output_{i}\"]\n",
    "    idx_offset = i*n_nrns\n",
    "    plt.plot(spike_mon.t/brian2.ms, spike_mon.i + idx_offset, \".\", label=f\"group {i}\")\n",
    "\n",
    "plt.legend()\n",
    "plt.xlim(0,50)\n",
    "plt.xlabel(\"time [ms]\")\n",
    "plt.ylabel(\"neuron ID\")"
   ]
  }
 ],
 "metadata": {
  "colab": {
   "include_colab_link": true,
   "provenance": []
  },
  "kernelspec": {
   "display_name": "Python [conda env:nir-demo] *",
   "language": "python",
   "name": "conda-env-nir-demo-py"
  },
  "language_info": {
   "codemirror_mode": {
    "name": "ipython",
    "version": 3
   },
   "file_extension": ".py",
   "mimetype": "text/x-python",
   "name": "python",
   "nbconvert_exporter": "python",
   "pygments_lexer": "ipython3",
   "version": "3.10.13"
  }
 },
 "nbformat": 4,
 "nbformat_minor": 5
}
