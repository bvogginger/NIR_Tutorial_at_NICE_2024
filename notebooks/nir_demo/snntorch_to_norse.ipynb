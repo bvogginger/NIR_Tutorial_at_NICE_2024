{
 "cells": [
  {
   "cell_type": "markdown",
   "metadata": {
    "id": "8R08u5xKHBv6"
   },
   "source": [
    "# NICE 2024\n",
    "# Training Spiking Neural Networks in snnTorch\n",
    "### Written by Jason Eshraghian and Bernhard Vogginger\n",
    "\n",
    "What you will learn:\n",
    "* Learn how spiking neurons are implemented as a recurrent network\n",
    "* Download event-based data and train a spiking neural network with it\n",
    "* Export it to the neuromorphic intermediate representation\n",
    "\n",
    "Install the latest PyPi distribution of snnTorch by clicking into the following cell and pressing `Shift+Enter`."
   ]
  },
  {
   "cell_type": "markdown",
   "metadata": {
    "id": "H_3jC4pJ8xzO"
   },
   "source": [
    "## 1. Imports"
   ]
  },
  {
   "cell_type": "code",
   "execution_count": 1,
   "metadata": {
    "colab": {
     "base_uri": "https://localhost:8080/"
    },
    "id": "l5rPCjp5OIhf",
    "outputId": "40950ba2-7153-4134-d556-c5adab56907a"
   },
   "outputs": [],
   "source": [
    "!pip install snntorch --quiet\n",
    "!pip install tonic --quiet"
   ]
  },
  {
   "cell_type": "code",
   "execution_count": 2,
   "metadata": {
    "id": "kh4NW-mc0JaY"
   },
   "outputs": [],
   "source": [
    "# imports\n",
    "import snntorch as snn\n",
    "\n",
    "import torch\n",
    "import torch.nn as nn\n",
    "\n",
    "import numpy as np\n",
    "import matplotlib.pyplot as plt\n",
    "\n",
    "from torch.utils.data import DataLoader\n",
    "from torchvision import datasets, transforms"
   ]
  },
  {
   "cell_type": "markdown",
   "metadata": {
    "id": "4lvCNRHbOGW7"
   },
   "source": [
    "# 2. Handling Event-based Data with Tonic"
   ]
  },
  {
   "cell_type": "markdown",
   "metadata": {
    "id": "nhJunMSEOVMk"
   },
   "source": [
    "## 2.1 PokerDVS Dataset\n",
    "\n",
    "The dataset used in this tutorial is POKERDVS by T. Serrano-Gotarredona and B. Linares-Barranco:\n",
    "\n",
    "```\n",
    "Serrano-Gotarredona, Teresa, and Bernabé Linares-Barranco. \"Poker-DVS and MNIST-DVS. Their history, how they were made, and other details.\" Frontiers in neuroscience 9 (2015): 481.\n",
    "```\n",
    "\n",
    "It is comprised of four classes, each being a suite of a playing card deck: clubs, spades, hearts, and diamonds. The data consists of 131 poker pip symbols, and was collected by flipping poker cards in front of a DVS128 camera."
   ]
  },
  {
   "cell_type": "code",
   "execution_count": 3,
   "metadata": {
    "colab": {
     "base_uri": "https://localhost:8080/",
     "height": 459,
     "referenced_widgets": [
      "4f070afc35b24b76b5717ae820f64a77",
      "750bd183cde14a82bc48975e40fe4fdf",
      "4a100f7410f54a0ba018ddd911f24e63",
      "98f110a7526b4828b429e845ba2a884b",
      "5d28989d8fa34022aaf8694ff6374f15",
      "6884341ab4064f2990c828b19beb96e8",
      "b5385ac4937f4a35a130bc1b7264d9c7",
      "6704bb61338d4678b6055f2892807e5b",
      "d0f69fce7a914992852fe8b031f16294",
      "398595507fb0493d8d5f67401f202248",
      "4ef4e376656b4f319ab5cadf5a5426e6",
      "30450b86e1cc4200a5e5020074ffca38",
      "4eb0a585e7734fd1b4afadccf6ea70fa",
      "305194b3ae824488a883bbfd4d20aa98",
      "a40afd0b7df047e8aaa15edf7e14d63b",
      "3cf5c31b521746cf8b11ac12613fd502",
      "f1c71fb7b65745458668194b7a881733",
      "91acdddabf324707b2d007c84550b4bd",
      "6285c4541d4944b4a3a91111a4f2b91a",
      "d87d9cc05a274198876ae843fb282ea5",
      "964d1fa8cea443ae97d90390d43f45cb",
      "a72b52a88ec6431695b641b1ea714caf"
     ]
    },
    "id": "mM4cKrtmOgPS",
    "outputId": "ff4d29fb-47eb-422b-ed13-f3f0c51a46b5"
   },
   "outputs": [
    {
     "name": "stdout",
     "output_type": "stream",
     "text": [
      "[(    0,  7, 22, 1) (   16, 19, 13, 0) (   18, 24, 23, 1) ...\n",
      " (14239, 21, 16, 1) (14246, 24, 14, 1) (14247, 14, 14, 1)]\n"
     ]
    },
    {
     "name": "stderr",
     "output_type": "stream",
     "text": [
      "/tmp/ipykernel_12252/1180474003.py:8: DeprecationWarning: `product` is deprecated as of NumPy 1.25.0, and will be removed in NumPy 2.0. Please use `prod` instead.\n",
      "  tonic.utils.plot_event_grid(events)\n"
     ]
    },
    {
     "data": {
      "image/png": "[encoded data removed]",
      "text/plain": [
       "<Figure size 640x480 with 3 Axes>"
      ]
     },
     "metadata": {},
     "output_type": "display_data"
    }
   ],
   "source": [
    "import tonic\n",
    "\n",
    "poker_train = tonic.datasets.POKERDVS(save_to='./data', train=True)\n",
    "poker_test = tonic.datasets.POKERDVS(save_to='./data', train=False)\n",
    "\n",
    "events, target = poker_train[0]\n",
    "print(events)\n",
    "tonic.utils.plot_event_grid(events)"
   ]
  },
  {
   "cell_type": "code",
   "execution_count": 4,
   "metadata": {
    "colab": {
     "base_uri": "https://localhost:8080/"
    },
    "id": "cGgrBCjqOhpo",
    "outputId": "4795d73d-7d3e-4fd2-b651-caa43d3249bc"
   },
   "outputs": [
    {
     "name": "stdout",
     "output_type": "stream",
     "text": [
      "torch.Size([25, 8, 2, 35, 35])\n",
      "tensor([1, 3, 3, 3, 2, 1, 2, 0])\n"
     ]
    }
   ],
   "source": [
    "import tonic.transforms as transforms\n",
    "from tonic import DiskCachedDataset\n",
    "\n",
    "# time_window\n",
    "frame_transform = tonic.transforms.Compose([tonic.transforms.Denoise(filter_time=10000),\n",
    "                                            tonic.transforms.ToFrame(\n",
    "                                            sensor_size=tonic.datasets.POKERDVS.sensor_size,\n",
    "                                            time_window=1000)\n",
    "                                            ])\n",
    "\n",
    "batch_size = 8\n",
    "cached_trainset = DiskCachedDataset(poker_train, transform=frame_transform, cache_path='./cache/pokerdvs/train')\n",
    "cached_testset = DiskCachedDataset(poker_test, transform=frame_transform, cache_path='./cache/pokerdvs/test')\n",
    "\n",
    "train_loader = DataLoader(cached_trainset, batch_size=batch_size, collate_fn=tonic.collation.PadTensors(batch_first=False), shuffle=True)\n",
    "test_loader = DataLoader(cached_testset, batch_size=batch_size, collate_fn=tonic.collation.PadTensors(batch_first=False), shuffle=True)\n",
    "\n",
    "data, labels = next(iter(train_loader))\n",
    "print(data.size())\n",
    "print(labels)"
   ]
  },
  {
   "cell_type": "markdown",
   "metadata": {
    "id": "IVacJHwO6t4M"
   },
   "source": [
    "## 3. Define the SNN"
   ]
  },
  {
   "cell_type": "code",
   "execution_count": 5,
   "metadata": {
    "id": "SmclKI7d62Oc"
   },
   "outputs": [],
   "source": [
    "num_inputs = 35*35*2\n",
    "num_hidden = 128\n",
    "num_outputs = 4"
   ]
  },
  {
   "cell_type": "code",
   "execution_count": 6,
   "metadata": {
    "id": "CWdyYErq7zXe"
   },
   "outputs": [],
   "source": [
    "dtype = torch.float\n",
    "device = torch.device(\"cuda\" if torch.cuda.is_available() else \"cpu\")"
   ]
  },
  {
   "cell_type": "markdown",
   "metadata": {
    "id": "hH8nHOsZ9Hxo"
   },
   "source": [
    "In the following code-block, note how the decay rate `beta` has two alternative definitions:\n",
    "* `beta1` is set to a global decay rate for all neurons in the first spiking layer.\n",
    "* `beta2` is randomly initialized to a vector of 10 different numbers. Each spiking neuron in the output layer (which not-so-coincidentally has 10 neurons) therefore has a unique, and random, decay rate."
   ]
  },
  {
   "cell_type": "code",
   "execution_count": 7,
   "metadata": {
    "id": "7rEX7-U687zV"
   },
   "outputs": [],
   "source": [
    "# Define Network\n",
    "class Net(nn.Module):\n",
    "    def __init__(self):\n",
    "        super().__init__()\n",
    "\n",
    "        alpha1 = 0.5\n",
    "        beta1 = 0.9 # global decay rate for all leaky neurons in layer 1\n",
    "        beta2 = torch.rand((num_outputs), dtype = torch.float) # independent decay rate for each leaky neuron in layer 2: [0, 1)\n",
    "        threshold2 = torch.ones_like(beta2) # threshold parameter must have the same shape as beta for NIR\n",
    "        alpha2 = torch.ones_like(beta2)*0.9\n",
    "        \n",
    "        # Initialize layers\n",
    "        self.fc1 = nn.Linear(num_inputs, num_hidden)\n",
    "        self.lif1 = snn.Synaptic(alpha=alpha1, beta=beta1) # not a learnable decay rate\n",
    "        self.fc2 = nn.Linear(num_hidden, num_outputs)\n",
    "        self.lif2 = snn.Synaptic(alpha=alpha2, beta=beta2, threshold=threshold2, learn_beta=True) # learnable decay rate\n",
    "\n",
    "    def forward(self, x):\n",
    "        syn1, mem1 = self.lif1.init_synaptic() # reset/init hidden states at t=0\n",
    "        syn2, mem2 = self.lif2.init_synaptic() # reset/init hidden states at t=0\n",
    "\n",
    "        spk2_rec = [] # record output spikes\n",
    "        mem2_rec = [] # record output hidden states\n",
    "\n",
    "        for step in range(x.size(0)): # loop over time\n",
    "            cur1 = self.fc1(x[step].flatten(1))\n",
    "            spk1, syn1, mem1 = self.lif1(cur1, syn1, mem1)\n",
    "            cur2 = self.fc2(spk1)\n",
    "            spk2, syn2, mem2 = self.lif2(cur2, syn2, mem2)\n",
    "\n",
    "            spk2_rec.append(spk2) # record spikes\n",
    "            mem2_rec.append(mem2) # record membrane\n",
    "\n",
    "        return torch.stack(spk2_rec), torch.stack(mem2_rec)\n",
    "\n",
    "# Load the network onto CUDA if available\n",
    "net = Net().to(device)"
   ]
  },
  {
   "cell_type": "markdown",
   "metadata": {
    "id": "3le9vSo29ocU"
   },
   "source": [
    "The code in the `forward()` function will only be called once the input argument `x` is explicitly passed into `net`.\n",
    "\n",
    "* `fc1` applies a linear transformation to all input pixels from the POKERDVS dataset;\n",
    "* `lif1` integrates the weighted input over time, emitting a spike if the threshold condition is met;\n",
    "* `fc2` applies a linear transformation to the output spikes of `lif1`;\n",
    "* `lif2` is another spiking neuron layer, integrating the weighted spikes over time.\n",
    "\n",
    "A 'biophysical' interpretation is that `fc1` and `fc2` generate current injections that are fed into a set of $128$ and $10$ spiking neurons in `lif1` and `lif2`, respectively.\n",
    "\n",
    "> Note: the number of spiking neurons is automatically inferred by the dimensionality of the dimensions of the current injection value."
   ]
  },
  {
   "cell_type": "markdown",
   "metadata": {
    "id": "L-ekyCxt78qB"
   },
   "source": [
    "# 4. Training the **SNN**"
   ]
  },
  {
   "cell_type": "markdown",
   "metadata": {
    "id": "1zKiDeSM1onU"
   },
   "source": [
    "## 4.1 Accuracy Metric\n",
    "Below is a function that takes a batch of data, counts up all the spikes from each neuron (i.e., a rate code over the simulation time), and compares the index of the highest count with the actual target. If they match, then the network correctly predicted the target."
   ]
  },
  {
   "cell_type": "code",
   "execution_count": 8,
   "metadata": {
    "id": "eytnSVQ8OtBj"
   },
   "outputs": [],
   "source": [
    "def measure_accuracy(model, dataloader):\n",
    "  with torch.no_grad():\n",
    "    model.eval()\n",
    "    running_length = 0\n",
    "    running_accuracy = 0\n",
    "\n",
    "    for data, targets in iter(dataloader):\n",
    "      data = data.to(device)\n",
    "      targets = targets.to(device)\n",
    "\n",
    "      # forward-pass\n",
    "      spk_rec, _ = model(data)\n",
    "      spike_count = spk_rec.sum(0) # batch x num_outputs\n",
    "      _, max_spike = spike_count.max(1)\n",
    "\n",
    "      # correct classes for one batch\n",
    "      num_correct = (max_spike == targets).sum()\n",
    "\n",
    "      # total accuracy\n",
    "      running_length += len(targets)\n",
    "      running_accuracy += num_correct\n",
    "\n",
    "    accuracy = (running_accuracy / running_length)\n",
    "\n",
    "    return accuracy.item()\n"
   ]
  },
  {
   "cell_type": "markdown",
   "metadata": {
    "id": "k1Fzf-3S3WGp"
   },
   "source": [
    "## 4.2 Loss Definition\n",
    "The `nn.CrossEntropyLoss` function in PyTorch automatically handles taking the softmax of the output layer as well as generating a loss at the output."
   ]
  },
  {
   "cell_type": "code",
   "execution_count": 9,
   "metadata": {
    "id": "mK0xRQQp3ypC"
   },
   "outputs": [],
   "source": [
    "loss = nn.CrossEntropyLoss()"
   ]
  },
  {
   "cell_type": "markdown",
   "metadata": {
    "id": "wr4TTQ204ubI"
   },
   "source": [
    "## 4.3 Optimizer\n",
    "Adam is a robust optimizer that performs well on recurrent networks, so let's use that with a learning rate of $5\\times10^{-4}$."
   ]
  },
  {
   "cell_type": "code",
   "execution_count": 10,
   "metadata": {
    "id": "muBPATWo40pI"
   },
   "outputs": [],
   "source": [
    "optimizer = torch.optim.Adam(net.parameters(), lr=5e-4, betas=(0.9, 0.999))"
   ]
  },
  {
   "cell_type": "markdown",
   "metadata": {
    "id": "IKTBRtsX-ZNy"
   },
   "source": [
    "## 4.4 One Iteration of Training\n",
    "Take the first batch of data and load it onto CUDA if available."
   ]
  },
  {
   "cell_type": "code",
   "execution_count": 11,
   "metadata": {
    "id": "e323axy244wa"
   },
   "outputs": [],
   "source": [
    "data, targets = next(iter(train_loader))\n",
    "data = data.to(device)\n",
    "targets = targets.to(device)"
   ]
  },
  {
   "cell_type": "markdown",
   "metadata": {
    "id": "ZZ1zApYM-cRk"
   },
   "source": [
    "Pass the input data to the network."
   ]
  },
  {
   "cell_type": "code",
   "execution_count": 12,
   "metadata": {
    "colab": {
     "base_uri": "https://localhost:8080/"
    },
    "id": "J-w2w7ME-d2o",
    "outputId": "5085a3ca-a6c3-45a1-9f87-99129ec6a874"
   },
   "outputs": [
    {
     "name": "stdout",
     "output_type": "stream",
     "text": [
      "torch.Size([28, 8, 4])\n"
     ]
    }
   ],
   "source": [
    "spk_rec, mem_rec = net(data)\n",
    "print(mem_rec.size())"
   ]
  },
  {
   "cell_type": "markdown",
   "metadata": {
    "id": "AIikA-Rh-fSa"
   },
   "source": [
    "The recording of the membrane potential is taken across:\n",
    "* 29 time steps\n",
    "* 8 samples of data\n",
    "* 4 output neurons\n",
    "\n",
    "We wish to calculate the loss at every time step, and sum these up together:\n",
    "\n",
    "\n",
    "$$\\mathcal{L}_{Total-CE} = \\sum_t\\mathcal{L}_{CE}[t]$$"
   ]
  },
  {
   "cell_type": "code",
   "execution_count": 13,
   "metadata": {
    "colab": {
     "base_uri": "https://localhost:8080/"
    },
    "id": "WHlczZEb-vqj",
    "outputId": "187ee0d6-472b-4a5b-e20f-58216d688886"
   },
   "outputs": [
    {
     "name": "stdout",
     "output_type": "stream",
     "text": [
      "Training loss: 42058.758\n"
     ]
    }
   ],
   "source": [
    "# initialize the total loss value\n",
    "loss_val = torch.zeros((1), dtype=dtype, device=device)\n",
    "\n",
    "# sum loss at every step\n",
    "for step in range(mem_rec.size(0)):\n",
    "  loss_val += loss(mem_rec[step], targets)\n",
    "\n",
    "print(f\"Training loss: {loss_val.item():.3f}\")"
   ]
  },
  {
   "cell_type": "markdown",
   "metadata": {
    "id": "InrjD9n--xCt"
   },
   "source": [
    "The loss is quite large, because it is summed over 29-ish time steps. The accuracy is also bad (it should be roughly around 25%) as the network is untrained:"
   ]
  },
  {
   "cell_type": "code",
   "execution_count": 14,
   "metadata": {
    "colab": {
     "base_uri": "https://localhost:8080/"
    },
    "id": "LaDDSPLK9u7p",
    "outputId": "3f9eb765-8241-4801-84e3-3b4df8ee0cf9"
   },
   "outputs": [
    {
     "data": {
      "text/plain": [
       "0.1875"
      ]
     },
     "execution_count": 14,
     "metadata": {},
     "output_type": "execute_result"
    }
   ],
   "source": [
    "measure_accuracy(net, train_loader)"
   ]
  },
  {
   "cell_type": "markdown",
   "metadata": {
    "id": "0dvil_l3-09y"
   },
   "source": [
    "A single weight update is applied to the network as follows:"
   ]
  },
  {
   "cell_type": "code",
   "execution_count": 15,
   "metadata": {
    "id": "7Okzx-3p-0Mt"
   },
   "outputs": [],
   "source": [
    "# clear previously stored gradients\n",
    "optimizer.zero_grad()\n",
    "\n",
    "# calculate the gradients\n",
    "loss_val.backward()\n",
    "\n",
    "# weight update\n",
    "optimizer.step()"
   ]
  },
  {
   "cell_type": "markdown",
   "metadata": {
    "id": "iHbLCKsa-3Ao"
   },
   "source": [
    "Now, re-run the loss calculation and accuracy after a single iteration:"
   ]
  },
  {
   "cell_type": "code",
   "execution_count": 16,
   "metadata": {
    "colab": {
     "base_uri": "https://localhost:8080/"
    },
    "id": "Cvx9Ux2--4Aw",
    "outputId": "80005ea9-bd37-4083-f537-1899ae1d6f99"
   },
   "outputs": [
    {
     "name": "stdout",
     "output_type": "stream",
     "text": [
      "Training loss: 53.313\n"
     ]
    },
    {
     "data": {
      "text/plain": [
       "0.2916666567325592"
      ]
     },
     "execution_count": 16,
     "metadata": {},
     "output_type": "execute_result"
    }
   ],
   "source": [
    "# calculate new network outputs using the same data\n",
    "spk_rec, mem_rec = net(data)\n",
    "\n",
    "# initialize the total loss value\n",
    "loss_val = torch.zeros((1), dtype=dtype, device=device)\n",
    "\n",
    "# sum loss at every step\n",
    "for step in range(mem_rec.size(0)):\n",
    "  loss_val += loss(mem_rec[step], targets)\n",
    "\n",
    "print(f\"Training loss: {loss_val.item():.3f}\")\n",
    "measure_accuracy(net, train_loader)"
   ]
  },
  {
   "cell_type": "markdown",
   "metadata": {
    "id": "7T3MCnxo-5fE"
   },
   "source": [
    "After only one iteration, the loss should have decreased and accuracy should have increased. Note how membrane potential is used to calculate the cross entropy loss, and spike count is used for the measure of accuracy. It is also possible to use the spike count in the loss ([see Tutorial 6 in the snnTorch docs](https://snntorch.readthedocs.io/en/latest/tutorials/index.html))"
   ]
  },
  {
   "cell_type": "markdown",
   "metadata": {
    "id": "hDrQ7oMM--dU"
   },
   "source": [
    "## 4.5 Training Loop\n",
    "\n",
    "Let's combine everything into a training loop. We will train for one epoch (though feel free to increase `num_epochs`), exposing our network to each sample of data once."
   ]
  },
  {
   "cell_type": "code",
   "execution_count": 17,
   "metadata": {
    "colab": {
     "base_uri": "https://localhost:8080/"
    },
    "id": "UCnjeX4U_AVD",
    "outputId": "5022552f-9c48-4ec6-c54b-df25c6979c17"
   },
   "outputs": [
    {
     "name": "stdout",
     "output_type": "stream",
     "text": [
      "Iteration: 0 \t Accuracy: 0.30000001192092896\n",
      "Iteration: 1 \t Accuracy: 0.25\n",
      "Iteration: 2 \t Accuracy: 0.4000000059604645\n",
      "Iteration: 3 \t Accuracy: 0.30000001192092896\n",
      "Iteration: 4 \t Accuracy: 0.5\n",
      "Iteration: 5 \t Accuracy: 0.550000011920929\n",
      "Iteration: 6 \t Accuracy: 0.75\n",
      "Iteration: 7 \t Accuracy: 0.800000011920929\n",
      "Iteration: 8 \t Accuracy: 0.75\n",
      "Iteration: 9 \t Accuracy: 0.75\n",
      "Iteration: 10 \t Accuracy: 0.800000011920929\n",
      "Iteration: 11 \t Accuracy: 0.75\n",
      "Iteration: 12 \t Accuracy: 0.75\n",
      "Iteration: 13 \t Accuracy: 0.75\n",
      "Iteration: 14 \t Accuracy: 0.75\n",
      "Iteration: 15 \t Accuracy: 0.75\n",
      "Iteration: 16 \t Accuracy: 0.75\n",
      "Iteration: 17 \t Accuracy: 0.75\n",
      "Iteration: 18 \t Accuracy: 0.75\n",
      "Iteration: 19 \t Accuracy: 0.75\n",
      "Iteration: 20 \t Accuracy: 0.75\n",
      "Iteration: 21 \t Accuracy: 0.75\n",
      "Iteration: 22 \t Accuracy: 0.75\n",
      "Iteration: 23 \t Accuracy: 0.75\n",
      "Iteration: 24 \t Accuracy: 0.75\n",
      "Iteration: 25 \t Accuracy: 0.75\n",
      "Iteration: 26 \t Accuracy: 0.75\n",
      "Iteration: 27 \t Accuracy: 0.75\n",
      "Iteration: 28 \t Accuracy: 0.75\n",
      "Iteration: 29 \t Accuracy: 0.75\n",
      "Iteration: 30 \t Accuracy: 0.75\n",
      "Iteration: 31 \t Accuracy: 0.699999988079071\n",
      "Iteration: 32 \t Accuracy: 0.699999988079071\n",
      "Iteration: 33 \t Accuracy: 0.699999988079071\n",
      "Iteration: 34 \t Accuracy: 0.699999988079071\n",
      "Iteration: 35 \t Accuracy: 0.699999988079071\n",
      "Iteration: 36 \t Accuracy: 0.75\n",
      "Iteration: 37 \t Accuracy: 0.75\n",
      "Iteration: 38 \t Accuracy: 0.75\n",
      "Iteration: 39 \t Accuracy: 0.75\n",
      "Iteration: 40 \t Accuracy: 0.75\n",
      "Iteration: 41 \t Accuracy: 0.699999988079071\n",
      "Iteration: 42 \t Accuracy: 0.75\n",
      "Iteration: 43 \t Accuracy: 0.75\n",
      "Iteration: 44 \t Accuracy: 0.75\n",
      "Iteration: 45 \t Accuracy: 0.75\n",
      "Iteration: 46 \t Accuracy: 0.75\n",
      "Iteration: 47 \t Accuracy: 0.75\n",
      "Iteration: 48 \t Accuracy: 0.75\n",
      "Iteration: 49 \t Accuracy: 0.75\n",
      "Iteration: 50 \t Accuracy: 0.75\n",
      "Iteration: 51 \t Accuracy: 0.75\n",
      "Iteration: 52 \t Accuracy: 0.75\n",
      "Iteration: 53 \t Accuracy: 0.75\n",
      "Iteration: 54 \t Accuracy: 0.75\n",
      "Iteration: 55 \t Accuracy: 0.75\n",
      "Iteration: 56 \t Accuracy: 0.75\n",
      "Iteration: 57 \t Accuracy: 0.75\n",
      "Iteration: 58 \t Accuracy: 0.75\n",
      "Iteration: 59 \t Accuracy: 0.75\n"
     ]
    }
   ],
   "source": [
    "num_epochs = 10\n",
    "loss_hist = []\n",
    "test_loss_hist = []\n",
    "counter = 0\n",
    "\n",
    "# Outer training loop\n",
    "for epoch in range(num_epochs):\n",
    "    iter_counter = 0\n",
    "    train_batch = iter(train_loader)\n",
    "\n",
    "    # Minibatch training loop\n",
    "    for data, targets in train_batch:\n",
    "        data = data.to(device)\n",
    "        targets = targets.to(device)\n",
    "\n",
    "        # forward pass\n",
    "        net.train()\n",
    "        spk_rec, mem_rec = net(data)\n",
    "\n",
    "        # initialize the loss & sum over time\n",
    "        loss_val = torch.zeros((1), dtype=dtype, device=device)\n",
    "        for step in range(mem_rec.size(0)):\n",
    "            loss_val += loss(mem_rec[step], targets)\n",
    "\n",
    "        # Gradient calculation + weight update\n",
    "        optimizer.zero_grad()\n",
    "        loss_val.backward()\n",
    "        optimizer.step()\n",
    "\n",
    "        # Store loss history for future plotting\n",
    "        loss_hist.append(loss_val.item())\n",
    "\n",
    "        # Test set\n",
    "        with torch.no_grad():\n",
    "            net.eval()\n",
    "            test_data, test_targets = next(iter(test_loader))\n",
    "            test_data = test_data.to(device)\n",
    "            test_targets = test_targets.to(device)\n",
    "\n",
    "            # Test set forward pass\n",
    "            test_spk, test_mem = net(test_data)\n",
    "\n",
    "            # Test set loss\n",
    "            test_loss = torch.zeros((1), dtype=dtype, device=device)\n",
    "            for step in range(test_mem.size(0)):\n",
    "                test_loss += loss(test_mem[step], test_targets)\n",
    "            test_loss_hist.append(test_loss.item())\n",
    "\n",
    "            # Print train/test loss/accuracy\n",
    "            # if counter % 50 == 0:\n",
    "            print(f\"Iteration: {counter} \\t Accuracy: {measure_accuracy(net, test_loader)}\")\n",
    "            counter += 1\n",
    "            iter_counter +=1"
   ]
  },
  {
   "cell_type": "markdown",
   "metadata": {
    "id": "MWXOCBNI_B47"
   },
   "source": [
    "If this was your first time training an SNN, then congratulations. I'm proud of you and I always believed in you."
   ]
  },
  {
   "cell_type": "code",
   "execution_count": 18,
   "metadata": {},
   "outputs": [
    {
     "data": {
      "text/plain": [
       "0.75"
      ]
     },
     "execution_count": 18,
     "metadata": {},
     "output_type": "execute_result"
    }
   ],
   "source": [
    "measure_accuracy(net, test_loader)"
   ]
  },
  {
   "cell_type": "markdown",
   "metadata": {
    "id": "7BZpywK3_LZL"
   },
   "source": [
    "# 5. Export to NIR"
   ]
  },
  {
   "cell_type": "code",
   "execution_count": 19,
   "metadata": {
    "id": "yJ2ZcBH-ARmt"
   },
   "outputs": [],
   "source": [
    "import nir"
   ]
  },
  {
   "cell_type": "code",
   "execution_count": 20,
   "metadata": {
    "colab": {
     "base_uri": "https://localhost:8080/",
     "height": 722
    },
    "id": "qvtZS8kW_euK",
    "outputId": "94289949-6810-4094-a477-381a4b5f5aaa"
   },
   "outputs": [],
   "source": [
    "nir_model = snn.export_to_nir(net.cpu(), data.cpu())\n",
    "nir.write(\"nir_model.nir\", nir_model)"
   ]
  },
  {
   "cell_type": "code",
   "execution_count": 21,
   "metadata": {
    "cellView": "form",
    "id": "NaTLN3HN_7R0"
   },
   "outputs": [
    {
     "data": {
      "image/png": "[encoded data removed]",
      "text/plain": [
       "<IPython.core.display.Image object>"
      ]
     },
     "metadata": {},
     "output_type": "display_data"
    }
   ],
   "source": [
    "#@title Run this block for a good time\n",
    "import requests\n",
    "from IPython.display import Image, display\n",
    "\n",
    "def display_image_from_url(url):\n",
    "    response = requests.get(url, stream=True)\n",
    "    display(Image(response.content))\n",
    "\n",
    "url = \"http://www.clker.com/cliparts/7/8/a/0/1498553633398980412very-nice-borat.med.png\"\n",
    "display_image_from_url(url)"
   ]
  },
  {
   "cell_type": "markdown",
   "metadata": {
    "id": "3SlDUImz6Q2e"
   },
   "source": [
    "# Conclusion\n",
    "\n",
    "That covers how to train a spiking neural network and convert it into the neuromorphic intermediate representation. There are a lot of ways to alter this, e.g., by using different neuron models, surrogate gradients, learnable beta and threshold values, or modifying the fully-connected layers by replacing them with convolutions or whatever else you fancy."
   ]
  },
  {
   "cell_type": "markdown",
   "metadata": {},
   "source": [
    "# 6. Run the model with Norse"
   ]
  },
  {
   "cell_type": "markdown",
   "metadata": {},
   "source": [
    "## 6.1 Import NIR model to Norse"
   ]
  },
  {
   "cell_type": "code",
   "execution_count": 22,
   "metadata": {},
   "outputs": [],
   "source": [
    "!pip install norse --quiet"
   ]
  },
  {
   "cell_type": "code",
   "execution_count": 23,
   "metadata": {},
   "outputs": [],
   "source": [
    "import norse.torch as norse"
   ]
  },
  {
   "cell_type": "code",
   "execution_count": 24,
   "metadata": {},
   "outputs": [],
   "source": [
    "nir_model = nir.read(\"nir_model.nir\")"
   ]
  },
  {
   "cell_type": "code",
   "execution_count": 25,
   "metadata": {},
   "outputs": [],
   "source": [
    "norse_model = norse.from_nir(nir_model, dt=0.0001)"
   ]
  },
  {
   "cell_type": "code",
   "execution_count": 26,
   "metadata": {},
   "outputs": [
    {
     "data": {
      "text/plain": [
       "GraphExecutor(\n",
       "  (fc1): Linear(in_features=2450, out_features=128, bias=True)\n",
       "  (fc2): Linear(in_features=128, out_features=4, bias=True)\n",
       "  (input): Identity()\n",
       "  (lif1): CubaLIF(\n",
       "    (synapse): LIBoxCell(p=LIBoxParameters(tau_mem_inv=tensor(5000.), v_leak=tensor(0.)), dt=0.0001)\n",
       "    (lif): LIFBoxCell(p=LIFBoxParameters(tau_mem_inv=tensor(1000.0002), v_leak=tensor(0.), v_th=tensor(1.), v_reset=tensor(0.), method='super', alpha=tensor(100.), reset_method=<function reset_value at 0x7269ddc35ab0>), dt=0.0001)\n",
       "  )\n",
       "  (lif2): CubaLIF(\n",
       "    (synapse): LIBoxCell(p=LIBoxParameters(tau_mem_inv=tensor([1000.0003, 1000.0003, 1000.0003, 1000.0003]), v_leak=tensor([0., 0., 0., 0.])), dt=0.0001)\n",
       "    (lif): LIFBoxCell(p=LIFBoxParameters(tau_mem_inv=tensor([6959.4067, 2405.2061, 2971.3215, 9211.4092]), v_leak=tensor([0., 0., 0., 0.]), v_th=tensor([1., 1., 1., 1.]), v_reset=tensor(0.), method='super', alpha=tensor(100.), reset_method=<function reset_value at 0x7269ddc35ab0>), dt=0.0001)\n",
       "  )\n",
       "  (output): Identity()\n",
       ")"
      ]
     },
     "execution_count": 26,
     "metadata": {},
     "output_type": "execute_result"
    }
   ],
   "source": [
    "norse_model.to(device)"
   ]
  },
  {
   "cell_type": "markdown",
   "metadata": {},
   "source": [
    "**TODO: add some information about the `nirtorch.GraphExecutor`** "
   ]
  },
  {
   "cell_type": "markdown",
   "metadata": {},
   "source": [
    "## 6.2. Run the model with a single batch of data\n",
    "\n",
    "The graph executor can run a single forward step. Let's add the recurrence..."
   ]
  },
  {
   "cell_type": "code",
   "execution_count": 27,
   "metadata": {},
   "outputs": [],
   "source": [
    "def apply(data):\n",
    "    \"\"\"\n",
    "    apply an input data batch to the norse model\n",
    "    \"\"\"\n",
    "    state = None\n",
    "    hid_rec = []\n",
    "    out = []\n",
    "    \n",
    "    for i, t in enumerate(data):\n",
    "        z, state = norse_model(t.flatten(1), state)\n",
    "        out.append(z)\n",
    "        hid_rec.append(state)\n",
    "    spk_out = torch.stack(out)\n",
    "    # hid_rec = torch.stack(hid_rec)\n",
    "    return spk_out, hid_rec"
   ]
  },
  {
   "cell_type": "markdown",
   "metadata": {},
   "source": [
    "Apply to a batch of data"
   ]
  },
  {
   "cell_type": "code",
   "execution_count": 28,
   "metadata": {},
   "outputs": [
    {
     "name": "stdout",
     "output_type": "stream",
     "text": [
      "Predicted classes: tensor([1, 2, 1, 0, 0, 0, 2, 1])\n",
      "Actual classes:    tensor([1, 2, 3, 3, 0, 0, 2, 1])\n"
     ]
    }
   ],
   "source": [
    "data, targets = next(iter(test_loader))\n",
    "\n",
    "spk, hid = apply(data)\n",
    "\n",
    "# count the number of spikes for each neuron and assess the winner\n",
    "predictions = spk.sum(axis=0).argmax(axis=-1)\n",
    "print(f\"Predicted classes: {predictions}\")\n",
    "print(f\"Actual classes:    {targets}\")"
   ]
  },
  {
   "cell_type": "markdown",
   "metadata": {},
   "source": [
    "### 6.3 Measure accuracy for test dataset"
   ]
  },
  {
   "cell_type": "code",
   "execution_count": 29,
   "metadata": {},
   "outputs": [],
   "source": [
    "def measure_accuracy2(model, dataloader):\n",
    "  with torch.no_grad():\n",
    "    # model.eval()  # not needed!\n",
    "    running_length = 0\n",
    "    running_accuracy = 0\n",
    "\n",
    "    for data, targets in iter(dataloader):\n",
    "      data = data.to(device)\n",
    "      targets = targets.to(device)\n",
    "\n",
    "      # forward-pass\n",
    "      spk_rec, _ = model(data)\n",
    "      spike_count = spk_rec.sum(0) # batch x num_outputs\n",
    "      _, max_spike = spike_count.max(1)\n",
    "\n",
    "      # correct classes for one batch\n",
    "      num_correct = (max_spike == targets).sum()\n",
    "\n",
    "      # total accuracy\n",
    "      running_length += len(targets)\n",
    "      running_accuracy += num_correct\n",
    "\n",
    "    accuracy = (running_accuracy / running_length)\n",
    "\n",
    "    return accuracy.item()"
   ]
  },
  {
   "cell_type": "code",
   "execution_count": 30,
   "metadata": {},
   "outputs": [
    {
     "data": {
      "text/plain": [
       "0.75"
      ]
     },
     "execution_count": 30,
     "metadata": {},
     "output_type": "execute_result"
    }
   ],
   "source": [
    "measure_accuracy2(apply, test_loader)"
   ]
  }
 ],
 "metadata": {
  "accelerator": "GPU",
  "colab": {
   "gpuType": "T4",
   "provenance": []
  },
  "kernelspec": {
   "display_name": "Python [conda env:nir-demo] *",
   "language": "python",
   "name": "conda-env-nir-demo-py"
  },
  "language_info": {
   "codemirror_mode": {
    "name": "ipython",
    "version": 3
   },
   "file_extension": ".py",
   "mimetype": "text/x-python",
   "name": "python",
   "nbconvert_exporter": "python",
   "pygments_lexer": "ipython3",
   "version": "3.10.13"
  },
  "widgets": {
   "application/vnd.jupyter.widget-state+json": {
    "30450b86e1cc4200a5e5020074ffca38": {
     "model_module": "@jupyter-widgets/controls",
     "model_module_version": "1.5.0",
     "model_name": "HBoxModel",
     "state": {
      "_dom_classes": [],
      "_model_module": "@jupyter-widgets/controls",
      "_model_module_version": "1.5.0",
      "_model_name": "HBoxModel",
      "_view_count": null,
      "_view_module": "@jupyter-widgets/controls",
      "_view_module_version": "1.5.0",
      "_view_name": "HBoxView",
      "box_style": "",
      "children": [
       "IPY_MODEL_4eb0a585e7734fd1b4afadccf6ea70fa",
       "IPY_MODEL_305194b3ae824488a883bbfd4d20aa98",
       "IPY_MODEL_a40afd0b7df047e8aaa15edf7e14d63b"
      ],
      "layout": "IPY_MODEL_3cf5c31b521746cf8b11ac12613fd502"
     }
    },
    "305194b3ae824488a883bbfd4d20aa98": {
     "model_module": "@jupyter-widgets/controls",
     "model_module_version": "1.5.0",
     "model_name": "FloatProgressModel",
     "state": {
      "_dom_classes": [],
      "_model_module": "@jupyter-widgets/controls",
      "_model_module_version": "1.5.0",
      "_model_name": "FloatProgressModel",
      "_view_count": null,
      "_view_module": "@jupyter-widgets/controls",
      "_view_module_version": "1.5.0",
      "_view_name": "ProgressView",
      "bar_style": "success",
      "description": "",
      "description_tooltip": null,
      "layout": "IPY_MODEL_6285c4541d4944b4a3a91111a4f2b91a",
      "max": 311022,
      "min": 0,
      "orientation": "horizontal",
      "style": "IPY_MODEL_d87d9cc05a274198876ae843fb282ea5",
      "value": 311022
     }
    },
    "398595507fb0493d8d5f67401f202248": {
     "model_module": "@jupyter-widgets/base",
     "model_module_version": "1.2.0",
     "model_name": "LayoutModel",
     "state": {
      "_model_module": "@jupyter-widgets/base",
      "_model_module_version": "1.2.0",
      "_model_name": "LayoutModel",
      "_view_count": null,
      "_view_module": "@jupyter-widgets/base",
      "_view_module_version": "1.2.0",
      "_view_name": "LayoutView",
      "align_content": null,
      "align_items": null,
      "align_self": null,
      "border": null,
      "bottom": null,
      "display": null,
      "flex": null,
      "flex_flow": null,
      "grid_area": null,
      "grid_auto_columns": null,
      "grid_auto_flow": null,
      "grid_auto_rows": null,
      "grid_column": null,
      "grid_gap": null,
      "grid_row": null,
      "grid_template_areas": null,
      "grid_template_columns": null,
      "grid_template_rows": null,
      "height": null,
      "justify_content": null,
      "justify_items": null,
      "left": null,
      "margin": null,
      "max_height": null,
      "max_width": null,
      "min_height": null,
      "min_width": null,
      "object_fit": null,
      "object_position": null,
      "order": null,
      "overflow": null,
      "overflow_x": null,
      "overflow_y": null,
      "padding": null,
      "right": null,
      "top": null,
      "visibility": null,
      "width": null
     }
    },
    "3cf5c31b521746cf8b11ac12613fd502": {
     "model_module": "@jupyter-widgets/base",
     "model_module_version": "1.2.0",
     "model_name": "LayoutModel",
     "state": {
      "_model_module": "@jupyter-widgets/base",
      "_model_module_version": "1.2.0",
      "_model_name": "LayoutModel",
      "_view_count": null,
      "_view_module": "@jupyter-widgets/base",
      "_view_module_version": "1.2.0",
      "_view_name": "LayoutView",
      "align_content": null,
      "align_items": null,
      "align_self": null,
      "border": null,
      "bottom": null,
      "display": null,
      "flex": null,
      "flex_flow": null,
      "grid_area": null,
      "grid_auto_columns": null,
      "grid_auto_flow": null,
      "grid_auto_rows": null,
      "grid_column": null,
      "grid_gap": null,
      "grid_row": null,
      "grid_template_areas": null,
      "grid_template_columns": null,
      "grid_template_rows": null,
      "height": null,
      "justify_content": null,
      "justify_items": null,
      "left": null,
      "margin": null,
      "max_height": null,
      "max_width": null,
      "min_height": null,
      "min_width": null,
      "object_fit": null,
      "object_position": null,
      "order": null,
      "overflow": null,
      "overflow_x": null,
      "overflow_y": null,
      "padding": null,
      "right": null,
      "top": null,
      "visibility": null,
      "width": null
     }
    },
    "4a100f7410f54a0ba018ddd911f24e63": {
     "model_module": "@jupyter-widgets/controls",
     "model_module_version": "1.5.0",
     "model_name": "FloatProgressModel",
     "state": {
      "_dom_classes": [],
      "_model_module": "@jupyter-widgets/controls",
      "_model_module_version": "1.5.0",
      "_model_name": "FloatProgressModel",
      "_view_count": null,
      "_view_module": "@jupyter-widgets/controls",
      "_view_module_version": "1.5.0",
      "_view_name": "ProgressView",
      "bar_style": "success",
      "description": "",
      "description_tooltip": null,
      "layout": "IPY_MODEL_6704bb61338d4678b6055f2892807e5b",
      "max": 700096,
      "min": 0,
      "orientation": "horizontal",
      "style": "IPY_MODEL_d0f69fce7a914992852fe8b031f16294",
      "value": 700096
     }
    },
    "4eb0a585e7734fd1b4afadccf6ea70fa": {
     "model_module": "@jupyter-widgets/controls",
     "model_module_version": "1.5.0",
     "model_name": "HTMLModel",
     "state": {
      "_dom_classes": [],
      "_model_module": "@jupyter-widgets/controls",
      "_model_module_version": "1.5.0",
      "_model_name": "HTMLModel",
      "_view_count": null,
      "_view_module": "@jupyter-widgets/controls",
      "_view_module_version": "1.5.0",
      "_view_name": "HTMLView",
      "description": "",
      "description_tooltip": null,
      "layout": "IPY_MODEL_f1c71fb7b65745458668194b7a881733",
      "placeholder": "​",
      "style": "IPY_MODEL_91acdddabf324707b2d007c84550b4bd",
      "value": ""
     }
    },
    "4ef4e376656b4f319ab5cadf5a5426e6": {
     "model_module": "@jupyter-widgets/controls",
     "model_module_version": "1.5.0",
     "model_name": "DescriptionStyleModel",
     "state": {
      "_model_module": "@jupyter-widgets/controls",
      "_model_module_version": "1.5.0",
      "_model_name": "DescriptionStyleModel",
      "_view_count": null,
      "_view_module": "@jupyter-widgets/base",
      "_view_module_version": "1.2.0",
      "_view_name": "StyleView",
      "description_width": ""
     }
    },
    "4f070afc35b24b76b5717ae820f64a77": {
     "model_module": "@jupyter-widgets/controls",
     "model_module_version": "1.5.0",
     "model_name": "HBoxModel",
     "state": {
      "_dom_classes": [],
      "_model_module": "@jupyter-widgets/controls",
      "_model_module_version": "1.5.0",
      "_model_name": "HBoxModel",
      "_view_count": null,
      "_view_module": "@jupyter-widgets/controls",
      "_view_module_version": "1.5.0",
      "_view_name": "HBoxView",
      "box_style": "",
      "children": [
       "IPY_MODEL_750bd183cde14a82bc48975e40fe4fdf",
       "IPY_MODEL_4a100f7410f54a0ba018ddd911f24e63",
       "IPY_MODEL_98f110a7526b4828b429e845ba2a884b"
      ],
      "layout": "IPY_MODEL_5d28989d8fa34022aaf8694ff6374f15"
     }
    },
    "5d28989d8fa34022aaf8694ff6374f15": {
     "model_module": "@jupyter-widgets/base",
     "model_module_version": "1.2.0",
     "model_name": "LayoutModel",
     "state": {
      "_model_module": "@jupyter-widgets/base",
      "_model_module_version": "1.2.0",
      "_model_name": "LayoutModel",
      "_view_count": null,
      "_view_module": "@jupyter-widgets/base",
      "_view_module_version": "1.2.0",
      "_view_name": "LayoutView",
      "align_content": null,
      "align_items": null,
      "align_self": null,
      "border": null,
      "bottom": null,
      "display": null,
      "flex": null,
      "flex_flow": null,
      "grid_area": null,
      "grid_auto_columns": null,
      "grid_auto_flow": null,
      "grid_auto_rows": null,
      "grid_column": null,
      "grid_gap": null,
      "grid_row": null,
      "grid_template_areas": null,
      "grid_template_columns": null,
      "grid_template_rows": null,
      "height": null,
      "justify_content": null,
      "justify_items": null,
      "left": null,
      "margin": null,
      "max_height": null,
      "max_width": null,
      "min_height": null,
      "min_width": null,
      "object_fit": null,
      "object_position": null,
      "order": null,
      "overflow": null,
      "overflow_x": null,
      "overflow_y": null,
      "padding": null,
      "right": null,
      "top": null,
      "visibility": null,
      "width": null
     }
    },
    "6285c4541d4944b4a3a91111a4f2b91a": {
     "model_module": "@jupyter-widgets/base",
     "model_module_version": "1.2.0",
     "model_name": "LayoutModel",
     "state": {
      "_model_module": "@jupyter-widgets/base",
      "_model_module_version": "1.2.0",
      "_model_name": "LayoutModel",
      "_view_count": null,
      "_view_module": "@jupyter-widgets/base",
      "_view_module_version": "1.2.0",
      "_view_name": "LayoutView",
      "align_content": null,
      "align_items": null,
      "align_self": null,
      "border": null,
      "bottom": null,
      "display": null,
      "flex": null,
      "flex_flow": null,
      "grid_area": null,
      "grid_auto_columns": null,
      "grid_auto_flow": null,
      "grid_auto_rows": null,
      "grid_column": null,
      "grid_gap": null,
      "grid_row": null,
      "grid_template_areas": null,
      "grid_template_columns": null,
      "grid_template_rows": null,
      "height": null,
      "justify_content": null,
      "justify_items": null,
      "left": null,
      "margin": null,
      "max_height": null,
      "max_width": null,
      "min_height": null,
      "min_width": null,
      "object_fit": null,
      "object_position": null,
      "order": null,
      "overflow": null,
      "overflow_x": null,
      "overflow_y": null,
      "padding": null,
      "right": null,
      "top": null,
      "visibility": null,
      "width": null
     }
    },
    "6704bb61338d4678b6055f2892807e5b": {
     "model_module": "@jupyter-widgets/base",
     "model_module_version": "1.2.0",
     "model_name": "LayoutModel",
     "state": {
      "_model_module": "@jupyter-widgets/base",
      "_model_module_version": "1.2.0",
      "_model_name": "LayoutModel",
      "_view_count": null,
      "_view_module": "@jupyter-widgets/base",
      "_view_module_version": "1.2.0",
      "_view_name": "LayoutView",
      "align_content": null,
      "align_items": null,
      "align_self": null,
      "border": null,
      "bottom": null,
      "display": null,
      "flex": null,
      "flex_flow": null,
      "grid_area": null,
      "grid_auto_columns": null,
      "grid_auto_flow": null,
      "grid_auto_rows": null,
      "grid_column": null,
      "grid_gap": null,
      "grid_row": null,
      "grid_template_areas": null,
      "grid_template_columns": null,
      "grid_template_rows": null,
      "height": null,
      "justify_content": null,
      "justify_items": null,
      "left": null,
      "margin": null,
      "max_height": null,
      "max_width": null,
      "min_height": null,
      "min_width": null,
      "object_fit": null,
      "object_position": null,
      "order": null,
      "overflow": null,
      "overflow_x": null,
      "overflow_y": null,
      "padding": null,
      "right": null,
      "top": null,
      "visibility": null,
      "width": null
     }
    },
    "6884341ab4064f2990c828b19beb96e8": {
     "model_module": "@jupyter-widgets/base",
     "model_module_version": "1.2.0",
     "model_name": "LayoutModel",
     "state": {
      "_model_module": "@jupyter-widgets/base",
      "_model_module_version": "1.2.0",
      "_model_name": "LayoutModel",
      "_view_count": null,
      "_view_module": "@jupyter-widgets/base",
      "_view_module_version": "1.2.0",
      "_view_name": "LayoutView",
      "align_content": null,
      "align_items": null,
      "align_self": null,
      "border": null,
      "bottom": null,
      "display": null,
      "flex": null,
      "flex_flow": null,
      "grid_area": null,
      "grid_auto_columns": null,
      "grid_auto_flow": null,
      "grid_auto_rows": null,
      "grid_column": null,
      "grid_gap": null,
      "grid_row": null,
      "grid_template_areas": null,
      "grid_template_columns": null,
      "grid_template_rows": null,
      "height": null,
      "justify_content": null,
      "justify_items": null,
      "left": null,
      "margin": null,
      "max_height": null,
      "max_width": null,
      "min_height": null,
      "min_width": null,
      "object_fit": null,
      "object_position": null,
      "order": null,
      "overflow": null,
      "overflow_x": null,
      "overflow_y": null,
      "padding": null,
      "right": null,
      "top": null,
      "visibility": null,
      "width": null
     }
    },
    "750bd183cde14a82bc48975e40fe4fdf": {
     "model_module": "@jupyter-widgets/controls",
     "model_module_version": "1.5.0",
     "model_name": "HTMLModel",
     "state": {
      "_dom_classes": [],
      "_model_module": "@jupyter-widgets/controls",
      "_model_module_version": "1.5.0",
      "_model_name": "HTMLModel",
      "_view_count": null,
      "_view_module": "@jupyter-widgets/controls",
      "_view_module_version": "1.5.0",
      "_view_name": "HTMLView",
      "description": "",
      "description_tooltip": null,
      "layout": "IPY_MODEL_6884341ab4064f2990c828b19beb96e8",
      "placeholder": "​",
      "style": "IPY_MODEL_b5385ac4937f4a35a130bc1b7264d9c7",
      "value": ""
     }
    },
    "91acdddabf324707b2d007c84550b4bd": {
     "model_module": "@jupyter-widgets/controls",
     "model_module_version": "1.5.0",
     "model_name": "DescriptionStyleModel",
     "state": {
      "_model_module": "@jupyter-widgets/controls",
      "_model_module_version": "1.5.0",
      "_model_name": "DescriptionStyleModel",
      "_view_count": null,
      "_view_module": "@jupyter-widgets/base",
      "_view_module_version": "1.2.0",
      "_view_name": "StyleView",
      "description_width": ""
     }
    },
    "964d1fa8cea443ae97d90390d43f45cb": {
     "model_module": "@jupyter-widgets/base",
     "model_module_version": "1.2.0",
     "model_name": "LayoutModel",
     "state": {
      "_model_module": "@jupyter-widgets/base",
      "_model_module_version": "1.2.0",
      "_model_name": "LayoutModel",
      "_view_count": null,
      "_view_module": "@jupyter-widgets/base",
      "_view_module_version": "1.2.0",
      "_view_name": "LayoutView",
      "align_content": null,
      "align_items": null,
      "align_self": null,
      "border": null,
      "bottom": null,
      "display": null,
      "flex": null,
      "flex_flow": null,
      "grid_area": null,
      "grid_auto_columns": null,
      "grid_auto_flow": null,
      "grid_auto_rows": null,
      "grid_column": null,
      "grid_gap": null,
      "grid_row": null,
      "grid_template_areas": null,
      "grid_template_columns": null,
      "grid_template_rows": null,
      "height": null,
      "justify_content": null,
      "justify_items": null,
      "left": null,
      "margin": null,
      "max_height": null,
      "max_width": null,
      "min_height": null,
      "min_width": null,
      "object_fit": null,
      "object_position": null,
      "order": null,
      "overflow": null,
      "overflow_x": null,
      "overflow_y": null,
      "padding": null,
      "right": null,
      "top": null,
      "visibility": null,
      "width": null
     }
    },
    "98f110a7526b4828b429e845ba2a884b": {
     "model_module": "@jupyter-widgets/controls",
     "model_module_version": "1.5.0",
     "model_name": "HTMLModel",
     "state": {
      "_dom_classes": [],
      "_model_module": "@jupyter-widgets/controls",
      "_model_module_version": "1.5.0",
      "_model_name": "HTMLModel",
      "_view_count": null,
      "_view_module": "@jupyter-widgets/controls",
      "_view_module_version": "1.5.0",
      "_view_name": "HTMLView",
      "description": "",
      "description_tooltip": null,
      "layout": "IPY_MODEL_398595507fb0493d8d5f67401f202248",
      "placeholder": "​",
      "style": "IPY_MODEL_4ef4e376656b4f319ab5cadf5a5426e6",
      "value": " 700416/? [00:00&lt;00:00, 685477.15it/s]"
     }
    },
    "a40afd0b7df047e8aaa15edf7e14d63b": {
     "model_module": "@jupyter-widgets/controls",
     "model_module_version": "1.5.0",
     "model_name": "HTMLModel",
     "state": {
      "_dom_classes": [],
      "_model_module": "@jupyter-widgets/controls",
      "_model_module_version": "1.5.0",
      "_model_name": "HTMLModel",
      "_view_count": null,
      "_view_module": "@jupyter-widgets/controls",
      "_view_module_version": "1.5.0",
      "_view_name": "HTMLView",
      "description": "",
      "description_tooltip": null,
      "layout": "IPY_MODEL_964d1fa8cea443ae97d90390d43f45cb",
      "placeholder": "​",
      "style": "IPY_MODEL_a72b52a88ec6431695b641b1ea714caf",
      "value": " 311296/? [00:00&lt;00:00, 373539.68it/s]"
     }
    },
    "a72b52a88ec6431695b641b1ea714caf": {
     "model_module": "@jupyter-widgets/controls",
     "model_module_version": "1.5.0",
     "model_name": "DescriptionStyleModel",
     "state": {
      "_model_module": "@jupyter-widgets/controls",
      "_model_module_version": "1.5.0",
      "_model_name": "DescriptionStyleModel",
      "_view_count": null,
      "_view_module": "@jupyter-widgets/base",
      "_view_module_version": "1.2.0",
      "_view_name": "StyleView",
      "description_width": ""
     }
    },
    "b5385ac4937f4a35a130bc1b7264d9c7": {
     "model_module": "@jupyter-widgets/controls",
     "model_module_version": "1.5.0",
     "model_name": "DescriptionStyleModel",
     "state": {
      "_model_module": "@jupyter-widgets/controls",
      "_model_module_version": "1.5.0",
      "_model_name": "DescriptionStyleModel",
      "_view_count": null,
      "_view_module": "@jupyter-widgets/base",
      "_view_module_version": "1.2.0",
      "_view_name": "StyleView",
      "description_width": ""
     }
    },
    "d0f69fce7a914992852fe8b031f16294": {
     "model_module": "@jupyter-widgets/controls",
     "model_module_version": "1.5.0",
     "model_name": "ProgressStyleModel",
     "state": {
      "_model_module": "@jupyter-widgets/controls",
      "_model_module_version": "1.5.0",
      "_model_name": "ProgressStyleModel",
      "_view_count": null,
      "_view_module": "@jupyter-widgets/base",
      "_view_module_version": "1.2.0",
      "_view_name": "StyleView",
      "bar_color": null,
      "description_width": ""
     }
    },
    "d87d9cc05a274198876ae843fb282ea5": {
     "model_module": "@jupyter-widgets/controls",
     "model_module_version": "1.5.0",
     "model_name": "ProgressStyleModel",
     "state": {
      "_model_module": "@jupyter-widgets/controls",
      "_model_module_version": "1.5.0",
      "_model_name": "ProgressStyleModel",
      "_view_count": null,
      "_view_module": "@jupyter-widgets/base",
      "_view_module_version": "1.2.0",
      "_view_name": "StyleView",
      "bar_color": null,
      "description_width": ""
     }
    },
    "f1c71fb7b65745458668194b7a881733": {
     "model_module": "@jupyter-widgets/base",
     "model_module_version": "1.2.0",
     "model_name": "LayoutModel",
     "state": {
      "_model_module": "@jupyter-widgets/base",
      "_model_module_version": "1.2.0",
      "_model_name": "LayoutModel",
      "_view_count": null,
      "_view_module": "@jupyter-widgets/base",
      "_view_module_version": "1.2.0",
      "_view_name": "LayoutView",
      "align_content": null,
      "align_items": null,
      "align_self": null,
      "border": null,
      "bottom": null,
      "display": null,
      "flex": null,
      "flex_flow": null,
      "grid_area": null,
      "grid_auto_columns": null,
      "grid_auto_flow": null,
      "grid_auto_rows": null,
      "grid_column": null,
      "grid_gap": null,
      "grid_row": null,
      "grid_template_areas": null,
      "grid_template_columns": null,
      "grid_template_rows": null,
      "height": null,
      "justify_content": null,
      "justify_items": null,
      "left": null,
      "margin": null,
      "max_height": null,
      "max_width": null,
      "min_height": null,
      "min_width": null,
      "object_fit": null,
      "object_position": null,
      "order": null,
      "overflow": null,
      "overflow_x": null,
      "overflow_y": null,
      "padding": null,
      "right": null,
      "top": null,
      "visibility": null,
      "width": null
     }
    }
   }
  }
 },
 "nbformat": 4,
 "nbformat_minor": 4
}
