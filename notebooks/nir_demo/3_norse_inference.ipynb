{
 "cells": [
  {
   "cell_type": "markdown",
   "id": "bd859325-e192-4084-a587-de1fa73f4f3b",
   "metadata": {},
   "source": [
    "# Inference with Norse"
   ]
  },
  {
   "cell_type": "markdown",
   "id": "0a208f1b-2ee5-4f21-8055-415048f7523f",
   "metadata": {},
   "source": [
    "## 1. Installation, Imports and Dataset"
   ]
  },
  {
   "cell_type": "code",
   "execution_count": null,
   "id": "f6b9e8e3-227a-41bd-9419-a3977057b56f",
   "metadata": {},
   "outputs": [],
   "source": [
    "!pip install norse --quiet\n",
    "!pip install tonic --quiet\n",
    "!pip install nir --quiet"
   ]
  },
  {
   "cell_type": "code",
   "execution_count": null,
   "id": "60fac42a-c066-429e-988c-3f9d18552e5d",
   "metadata": {},
   "outputs": [],
   "source": [
    "# imports\n",
    "import norse.torch as norse\n",
    "\n",
    "import torch\n",
    "import torch.nn as nn\n",
    "\n",
    "import numpy as np\n",
    "import matplotlib.pyplot as plt\n",
    "\n",
    "from torch.utils.data import DataLoader\n",
    "from torchvision import datasets, transforms\n",
    "\n",
    "device = torch.device(\"cuda\" if torch.cuda.is_available() else \"cpu\")"
   ]
  },
  {
   "cell_type": "code",
   "execution_count": null,
   "id": "f3d29dec-4e30-4027-98ca-f43cffa06d6d",
   "metadata": {},
   "outputs": [],
   "source": [
    "import tonic\n",
    "\n",
    "poker_test = tonic.datasets.POKERDVS(save_to='./data', train=False)"
   ]
  },
  {
   "cell_type": "code",
   "execution_count": null,
   "id": "6c63d7d8-cd37-4d85-91ab-46e39dde58e9",
   "metadata": {},
   "outputs": [],
   "source": [
    "import tonic.transforms as transforms\n",
    "from tonic import DiskCachedDataset\n",
    "\n",
    "# time_window\n",
    "frame_transform = tonic.transforms.Compose([tonic.transforms.Denoise(filter_time=10000),\n",
    "                                            tonic.transforms.ToFrame(\n",
    "                                            sensor_size=tonic.datasets.POKERDVS.sensor_size,\n",
    "                                            time_window=1000)\n",
    "                                            ])\n",
    "\n",
    "batch_size = 8\n",
    "cached_testset = DiskCachedDataset(poker_test, transform=frame_transform, cache_path='./cache/pokerdvs/test')\n",
    "test_loader = DataLoader(cached_testset, batch_size=batch_size, collate_fn=tonic.collation.PadTensors(batch_first=False), shuffle=True)"
   ]
  },
  {
   "cell_type": "markdown",
   "id": "8db6977b-446f-4d85-8167-f7df85410421",
   "metadata": {},
   "source": [
    "## 2. Load NIR graph into Norse"
   ]
  },
  {
   "cell_type": "code",
   "execution_count": null,
   "id": "7cd1cdf9-52c0-49b9-a671-c42256c5ac11",
   "metadata": {},
   "outputs": [],
   "source": [
    "import nir"
   ]
  },
  {
   "cell_type": "code",
   "execution_count": null,
   "id": "b4bda7a2-e786-4469-bbf5-07722ffae33a",
   "metadata": {},
   "outputs": [],
   "source": [
    "nir_model = nir.read(\"nir_model.nir\")"
   ]
  },
  {
   "cell_type": "code",
   "execution_count": null,
   "id": "89143ada-20da-4e4a-ab23-e5cc8ce819f6",
   "metadata": {},
   "outputs": [],
   "source": [
    "net = norse.from_nir(nir_model, dt=0.0001)"
   ]
  },
  {
   "cell_type": "code",
   "execution_count": null,
   "id": "2d0b26bf-1528-4b4c-a9c7-7acaa81f6f0a",
   "metadata": {},
   "outputs": [],
   "source": [
    "net.to(device)"
   ]
  },
  {
   "cell_type": "markdown",
   "id": "31fcd372-a74c-4864-9ee1-2a7ec535a993",
   "metadata": {},
   "source": [
    "**TODO: add some information about the `nirtorch.GraphExecutor`** "
   ]
  },
  {
   "cell_type": "markdown",
   "id": "f2b16a6f-195d-4919-a2cb-1875335fe42b",
   "metadata": {},
   "source": [
    "## 3. Run the model with a single batch of data\n",
    "\n",
    "The graph executor can run a single forward step. Let's add the recurrence..."
   ]
  },
  {
   "cell_type": "code",
   "execution_count": null,
   "id": "588aff50-06e9-4027-90ec-3bc5deb48512",
   "metadata": {},
   "outputs": [],
   "source": [
    "def apply(data):\n",
    "    \"\"\"\n",
    "    apply an input data batch to the norse model\n",
    "    \"\"\"\n",
    "    state = None\n",
    "    hid_rec = []\n",
    "    out = []\n",
    "    \n",
    "    for i, t in enumerate(data):\n",
    "        z, state = net(t.flatten(1), state)\n",
    "        out.append(z)\n",
    "        hid_rec.append(state)\n",
    "    spk_out = torch.stack(out)\n",
    "    # hid_rec = torch.stack(hid_rec)\n",
    "    return spk_out, hid_rec"
   ]
  },
  {
   "cell_type": "markdown",
   "id": "de0f8aeb-f1df-45b1-b4db-5ae66460e560",
   "metadata": {},
   "source": [
    "Apply to a batch of data"
   ]
  },
  {
   "cell_type": "code",
   "execution_count": null,
   "id": "adbecf42-6caa-42bf-9711-4ce9931aeb62",
   "metadata": {},
   "outputs": [],
   "source": [
    "data, targets = next(iter(test_loader))\n",
    "\n",
    "spk, hid = apply(data)\n",
    "\n",
    "# count the number of spikes for each neuron and assess the winner\n",
    "predictions = spk.sum(axis=0).argmax(axis=-1)\n",
    "print(f\"Predicted classes: {predictions}\")\n",
    "print(f\"Actual classes:    {targets}\")"
   ]
  },
  {
   "cell_type": "markdown",
   "id": "37736f10-939c-4a84-8ce9-50fb8b93c129",
   "metadata": {},
   "source": [
    "### 4. Measure accuracy for test dataset"
   ]
  },
  {
   "cell_type": "code",
   "execution_count": null,
   "id": "98934eca-c872-4555-8b1f-7bdefc82f1ec",
   "metadata": {},
   "outputs": [],
   "source": [
    "def measure_accuracy(model, dataloader):\n",
    "  with torch.no_grad():\n",
    "    # model.eval()  # not needed!\n",
    "    running_length = 0\n",
    "    running_accuracy = 0\n",
    "\n",
    "    for data, targets in iter(dataloader):\n",
    "      data = data.to(device)\n",
    "      targets = targets.to(device)\n",
    "\n",
    "      # forward-pass\n",
    "      spk_rec, _ = model(data)\n",
    "      spike_count = spk_rec.sum(0) # batch x num_outputs\n",
    "      _, max_spike = spike_count.max(1)\n",
    "\n",
    "      # correct classes for one batch\n",
    "      num_correct = (max_spike == targets).sum()\n",
    "\n",
    "      # total accuracy\n",
    "      running_length += len(targets)\n",
    "      running_accuracy += num_correct\n",
    "\n",
    "    accuracy = (running_accuracy / running_length)\n",
    "\n",
    "    return accuracy.item()"
   ]
  },
  {
   "cell_type": "code",
   "execution_count": null,
   "id": "e08f0170-1574-4b5d-a0dd-cd1549c97e5f",
   "metadata": {},
   "outputs": [],
   "source": [
    "measure_accuracy(apply, test_loader)"
   ]
  }
 ],
 "metadata": {
  "kernelspec": {
   "display_name": "Python [conda env:nir-demo] *",
   "language": "python",
   "name": "conda-env-nir-demo-py"
  },
  "language_info": {
   "codemirror_mode": {
    "name": "ipython",
    "version": 3
   },
   "file_extension": ".py",
   "mimetype": "text/x-python",
   "name": "python",
   "nbconvert_exporter": "python",
   "pygments_lexer": "ipython3",
   "version": "3.10.13"
  }
 },
 "nbformat": 4,
 "nbformat_minor": 5
}
